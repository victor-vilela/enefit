{
 "cells": [
  {
   "cell_type": "markdown",
   "id": "c67fd87e",
   "metadata": {},
   "source": [
    "# 0.0 IMPORTS"
   ]
  },
  {
   "cell_type": "code",
   "execution_count": 1,
   "id": "a57500bf",
   "metadata": {
    "ExecuteTime": {
     "end_time": "2023-07-09T23:14:21.239883Z",
     "start_time": "2023-07-09T23:14:12.683463Z"
    }
   },
   "outputs": [],
   "source": [
    "import inflection\n",
    "import math\n",
    "import datetime\n",
    "import warnings\n",
    "import pickle\n",
    "import seaborn                          as sns\n",
    "import pandas                           as pd\n",
    "import numpy                            as np\n",
    "import matplotlib.pyplot                as plt\n",
    "# import xgboost                          as xgb\n",
    "\n",
    "from scipy                 import stats as ss\n",
    "from IPython.display       import Image\n",
    "from tabulate              import tabulate\n",
    "\n",
    "from sklearn.preprocessing import RobustScaler, MinMaxScaler, LabelEncoder\n",
    "from sklearn.metrics       import mean_absolute_error, mean_absolute_percentage_error, mean_squared_error\n",
    "from sklearn.model_selection import train_test_split"
   ]
  },
  {
   "cell_type": "markdown",
   "id": "a7848568",
   "metadata": {},
   "source": [
    "## 0.1 Helper Functions"
   ]
  },
  {
   "cell_type": "code",
   "execution_count": 2,
   "id": "a69db5ae",
   "metadata": {
    "ExecuteTime": {
     "end_time": "2023-07-09T23:14:21.247820Z",
     "start_time": "2023-07-09T23:14:21.244123Z"
    }
   },
   "outputs": [],
   "source": [
    "warnings.filterwarnings('ignore')\n",
    "pd.options.display.float_format = \"{:,.4f}\".format"
   ]
  },
  {
   "cell_type": "code",
   "execution_count": 94,
   "metadata": {},
   "outputs": [],
   "source": [
    "def day_period(hora):\n",
    "    if datetime.datetime.strptime(\"00:00:00\", \"%H:%M:%S\").time() <= hora.time() <= datetime.datetime.strptime(\"05:59:59\", \"%H:%M:%S\").time():\n",
    "        return \"dawn\"\n",
    "    elif datetime.datetime.strptime(\"06:00:00\", \"%H:%M:%S\").time() <= hora.time() <= datetime.datetime.strptime(\"11:59:59\", \"%H:%M:%S\").time():\n",
    "        return \"morning\"\n",
    "    elif datetime.datetime.strptime(\"12:00:00\", \"%H:%M:%S\").time() <= hora.time() <= datetime.datetime.strptime(\"17:59:59\", \"%H:%M:%S\").time():\n",
    "        return \"afternoon\"\n",
    "    else:\n",
    "        return \"night\""
   ]
  },
  {
   "cell_type": "code",
   "execution_count": 3,
   "id": "2a4384cd",
   "metadata": {
    "ExecuteTime": {
     "end_time": "2023-07-09T23:14:21.398281Z",
     "start_time": "2023-07-09T23:14:21.250501Z"
    }
   },
   "outputs": [],
   "source": [
    "def cramer_v( x, y ):\n",
    "    cm = pd.crosstab( x, y ).values\n",
    "    n = cm.sum()\n",
    "    r, k = cm.shape\n",
    "    chi2 = ss.chi2_contingency( cm )[0]\n",
    "    chi2corr = max( 0, chi2 - (k-1)*(r-1)/(n-1) )\n",
    "    kcorr = k - (k-1)**2/(n-1)\n",
    "    rcorr = r - (r-1)**2/(n-1)\n",
    "    \n",
    "    return np.sqrt( (chi2corr/n) / ( min( kcorr-1, rcorr-1 ) ) )\n",
    "\n",
    "# Model Avaliation \n",
    "def ml_error( model_name, y, yhat ):\n",
    "    mae = mean_absolute_error( y, yhat )\n",
    "    mape = mean_absolute_percentage_error( y, yhat )\n",
    "    rmse = np.sqrt( mean_squared_error( y, yhat ) ) \n",
    "    \n",
    "    return pd.DataFrame( {'Model Name': model_name,\n",
    "                          'MAE': mae,\n",
    "                          'MAPE': mape,\n",
    "                          'RMSE': rmse}, index=[0] )\n",
    "\n",
    "# Cross Validation\n",
    "def cross_validation( x_training, kfold, model_name, model, verbose=False):\n",
    "\n",
    "    mae_list= []\n",
    "    mape_list= []\n",
    "    rmse_list= []\n",
    "    \n",
    "    for k in reversed( range( 1, kfold+1 ) ):\n",
    "        if verbose:\n",
    "            print('\\nKFold Number: ', k)\n",
    "        # start and end date for validation\n",
    "        validation_start_date = x_training['date'].max() - datetime.timedelta( days=k*6*7 )\n",
    "        validation_end_date = x_training['date'].max() - datetime.timedelta( days=k*6*7 )\n",
    "        \n",
    "        # filtering dataset\n",
    "        training = x_training[x_training['date'] < validation_start_date]\n",
    "        validation = x_training[(x_training['date'] >= validation_start_date) & (x_training['date'] <= validation_end_date)]\n",
    "        \n",
    "        # training and validation dataset\n",
    "        xtraining = training.drop(['date', 'sales'], axis=1)\n",
    "        ytraining = training['sales']\n",
    "        \n",
    "        xvalidation = validation.drop(['date', 'sales'], axis=1)\n",
    "        yvalidation = validation['sales']\n",
    "        \n",
    "        # model\n",
    "        m = model.fit(xtraining, ytraining)\n",
    "        \n",
    "        # prediction\n",
    "        yhat = m.predict(xvalidation)\n",
    "        \n",
    "        # performance\n",
    "        m_result = ml_error(model_name, np.expm1(yvalidation), np.expm1(yhat))\n",
    "        \n",
    "        # store performance of each kfold iteration\n",
    "        mae_list.append( m_result['MAE'] )\n",
    "        mape_list.append( m_result['MAPE'] )\n",
    "        rmse_list.append( m_result['RMSE'] )\n",
    "        \n",
    "    return pd.DataFrame( {\n",
    "            'Model Name': model_name,\n",
    "            'MAE CV': np.round( np.mean(mae_list), 2 ).astype(str) + \" +/- \" + np.round( np.std(mae_list), 2 ).astype(str),\n",
    "            'MAPE CV': np.round( np.mean(mape_list), 2 ).astype(str) + \" +/- \" + np.round( np.std(mape_list), 2 ).astype(str),\n",
    "            'RMSE CV': np.round( np.mean(rmse_list), 2 ).astype(str) + \" +/- \" + np.round( np.std(rmse_list), 2 ).astype(str)\n",
    "        }, index=[0] )\n",
    "\n",
    "\n",
    "def mean_percentage_error( y, yhat ):\n",
    "    return np.mean( (y-yhat) / y )"
   ]
  },
  {
   "cell_type": "markdown",
   "id": "16de90d0",
   "metadata": {},
   "source": [
    "## 0.2 Loading Data"
   ]
  },
  {
   "cell_type": "code",
   "execution_count": 4,
   "id": "cdaa3384",
   "metadata": {
    "ExecuteTime": {
     "end_time": "2023-07-09T23:14:24.315533Z",
     "start_time": "2023-07-09T23:14:21.401530Z"
    }
   },
   "outputs": [],
   "source": [
    "path_data = \"../data/raw/\"\n",
    "file = \"train.csv\"\n",
    "\n",
    "# CSV\n",
    "df_raw = pd.read_csv(path_data + file, low_memory=False)\n",
    "# df_raw1 = pd.read_csv(path_data + 'weather_station_to_county_mapping.csv', low_memory=False)"
   ]
  },
  {
   "cell_type": "code",
   "execution_count": 5,
   "metadata": {},
   "outputs": [],
   "source": [
    "# from shapely.geometry import Point, Polygon\n",
    "\n",
    "# # Lista de coordenadas\n",
    "# coordenadas = [(58.314502, 26.567954), (58.601123, 22.255536), (59.4370, 24.7536)]  # Substitua com suas próprias coordenadas\n",
    "\n",
    "# # Lista de polígonos representando as regiões da Estônia\n",
    "# # Exemplo: Tallinn e Tartu\n",
    "# poligonos_estonia = [\n",
    "#     Polygon([(57.909241,22.045001),(58.091748,22.247803),(58.448296,23.325354),(58.671462,22.778424),(58.494723,21.846066),(58.279932,21.835808),(58.158267,22.214486),(57.976952,21.987249)]), # Saaremaa\n",
    "#     Polygon([(58.930614,21.995549),(59.117489,22.678813),(58.839034,23.121406),(58.669885,22.570639)]), # Hiiumaa\n",
    "#     Polygon([(57.875688,24.386377),(58.731684,23.463538),(58.704998,25.301642),(58.333100,24.967435),(58.260484,25.264555),(58.030627,25.033266)]), # Pärnumaa\n",
    "#     Polygon([(58.716885,24.029207),(58.771290,23.140566),(59.228776,23.077535),(59.250348,23.694357),(59.055735,24.161490)]), # Läänemaa\n",
    "#     Polygon([(58.699250,24.133020),(58.987323,24.091950),(59.213355,24.630636),(59.221882,24.900632),(58.991191,25.322495),(58.664665,24.924818)]), # Raplamaa\n",
    "#     Polygon([(58.999688,24.292102),(59.232012,24.913743),(58.991818,25.324184),(59.271184,25.463257),(59.276531,25.950252),(59.723009,25.721541),(59.466326,23.416765)]), # Harjumaa\n",
    "#     Polygon([(58.045542,25.036610),(58.275094,25.279122),(58.328075,24.983104),(58.500729,25.036562),(58.687336,25.782312),(58.413488,26.187120),(58.097451,26.068628),(57.965990,25.599092)]), # Viljandimaa\n",
    "#     Polygon([(58.731859,25.060221),(58.936718,25.118759),(59.266086,25.476517),(59.184949,26.003151),(58.838645,26.128648),(58.620218,25.259202)]), # Järvamaa\n",
    "#     Polygon([(57.582152,26.477133),(57.756954,25.987071),(57.943257,25.585645),(58.149589,25.859783),(58.026949,26.123447),(58.162721,26.550464),(57.962221,26.577496),(57.933519,26.384930)]), # Valgamaa\n",
    "#     Polygon([(58.475713,26.142790),(58.862400,27.366270),(59.068785,26.899842),(58.692384,25.783614)]), # Jõgevamaa\n",
    "#     Polygon([(58.984867,26.791644),(59.614951,26.999953),(59.716053,25.726455),(59.276040,25.956887),(59.256570,25.538514),(59.185595,26.011746),(58.896017,26.145833)]), # Lääne-Virumaa\n",
    "#     Polygon([(57.936111,26.411170),(57.474713,26.534274),(57.699885,28.003695),(58.097359,27.556545)]), # Võrumaa\n",
    "#     Polygon([(58.178293,26.659231),(58.297622,27.450937),(58.092661,27.592132),(57.933223,26.627291)]), # Põlvamaa\n",
    "#     Polygon([(58.978170,26.659231),(59.594875,26.587502),(59.496868,28.427515),(58.956872,27.855354)]), # Ida-Virumaa\n",
    "# ]\n",
    "\n",
    "# # Verificar se as coordenadas estão dentro de alguma região\n",
    "# for coord in coordenadas:\n",
    "#     ponto = Point(coord[0], coord[1])\n",
    "#     dentro_da_regiao = False\n",
    "\n",
    "#     for poligono in poligonos_estonia:\n",
    "#         if ponto.within(poligono):\n",
    "#             dentro_da_regiao = True\n",
    "#             break\n",
    "\n",
    "#     if dentro_da_regiao:\n",
    "#         print(f\"Coordenada {coord} está dentro de uma região da Estônia.\")\n",
    "#     else:\n",
    "#         print(f\"Coordenada {coord} não está dentro de uma região da Estônia.\")\n"
   ]
  },
  {
   "cell_type": "markdown",
   "metadata": {},
   "source": [
    "# 1.0 DATA DESCRIPTIONS"
   ]
  },
  {
   "cell_type": "code",
   "execution_count": 72,
   "metadata": {},
   "outputs": [],
   "source": [
    "df1 = df_raw.copy()"
   ]
  },
  {
   "cell_type": "markdown",
   "id": "ae030980",
   "metadata": {},
   "source": [
    "## 1.1 Data Dimensions"
   ]
  },
  {
   "cell_type": "code",
   "execution_count": 73,
   "id": "1212ad71",
   "metadata": {
    "ExecuteTime": {
     "end_time": "2023-07-09T23:14:24.761411Z",
     "start_time": "2023-07-09T23:14:24.700905Z"
    }
   },
   "outputs": [
    {
     "name": "stdout",
     "output_type": "stream",
     "text": [
      "Number of Rows: 2018352\n",
      "Number of Columns: 9\n"
     ]
    }
   ],
   "source": [
    "print( 'Number of Rows: {}'.format(df1.shape[0]) )\n",
    "print( 'Number of Columns: {}'.format(df1.shape[1]) )"
   ]
  },
  {
   "cell_type": "markdown",
   "metadata": {},
   "source": [
    "## 1.2 Data Types"
   ]
  },
  {
   "cell_type": "code",
   "execution_count": 74,
   "id": "03b2ab4b",
   "metadata": {
    "ExecuteTime": {
     "end_time": "2023-07-09T23:14:24.840350Z",
     "start_time": "2023-07-09T23:14:24.763393Z"
    }
   },
   "outputs": [
    {
     "data": {
      "text/plain": [
       "county                  int64\n",
       "is_business             int64\n",
       "product_type            int64\n",
       "target                float64\n",
       "is_consumption          int64\n",
       "datetime               object\n",
       "data_block_id           int64\n",
       "row_id                  int64\n",
       "prediction_unit_id      int64\n",
       "dtype: object"
      ]
     },
     "execution_count": 74,
     "metadata": {},
     "output_type": "execute_result"
    }
   ],
   "source": [
    "df1.dtypes"
   ]
  },
  {
   "cell_type": "markdown",
   "id": "8b930731",
   "metadata": {},
   "source": [
    "## 1.3 Change Data Types"
   ]
  },
  {
   "cell_type": "code",
   "execution_count": 75,
   "metadata": {},
   "outputs": [
    {
     "data": {
      "text/plain": [
       "county                         int64\n",
       "is_business                    int64\n",
       "product_type                   int64\n",
       "target                       float64\n",
       "is_consumption                 int64\n",
       "datetime              datetime64[ns]\n",
       "data_block_id                  int64\n",
       "row_id                         int64\n",
       "prediction_unit_id             int64\n",
       "dtype: object"
      ]
     },
     "execution_count": 75,
     "metadata": {},
     "output_type": "execute_result"
    }
   ],
   "source": [
    "df1['datetime'] = df1['datetime'].apply(lambda x: datetime.datetime.strptime(x, '%Y-%m-%d %H:%M:%S'))\n",
    "df1.dtypes"
   ]
  },
  {
   "cell_type": "markdown",
   "id": "974524b2",
   "metadata": {},
   "source": [
    "## 1.4 Check NA"
   ]
  },
  {
   "cell_type": "code",
   "execution_count": 76,
   "id": "3578c434",
   "metadata": {
    "ExecuteTime": {
     "end_time": "2023-07-09T23:14:25.459039Z",
     "start_time": "2023-07-09T23:14:25.037842Z"
    }
   },
   "outputs": [
    {
     "data": {
      "text/plain": [
       "county                  0\n",
       "is_business             0\n",
       "product_type            0\n",
       "target                528\n",
       "is_consumption          0\n",
       "datetime                0\n",
       "data_block_id           0\n",
       "row_id                  0\n",
       "prediction_unit_id      0\n",
       "dtype: int64"
      ]
     },
     "execution_count": 76,
     "metadata": {},
     "output_type": "execute_result"
    }
   ],
   "source": [
    "df1.isna().sum()"
   ]
  },
  {
   "cell_type": "markdown",
   "id": "fb2f8496",
   "metadata": {},
   "source": [
    "## 1.5 Descriptive Statistical"
   ]
  },
  {
   "cell_type": "code",
   "execution_count": 77,
   "id": "556036ea",
   "metadata": {
    "ExecuteTime": {
     "end_time": "2023-07-09T23:15:19.458421Z",
     "start_time": "2023-07-09T23:15:19.417119Z"
    }
   },
   "outputs": [],
   "source": [
    "num_attributes = df1.select_dtypes(include=['int64', 'float64'])\n",
    "cat_attributes = df1.select_dtypes(exclude=['int64', 'float64', 'datetime64[ns]'])"
   ]
  },
  {
   "cell_type": "markdown",
   "id": "6673d7de",
   "metadata": {},
   "source": [
    "### 1.5.1 Numerical Attributes"
   ]
  },
  {
   "cell_type": "code",
   "execution_count": 78,
   "id": "d6a13af7",
   "metadata": {
    "ExecuteTime": {
     "end_time": "2023-07-09T23:15:19.515802Z",
     "start_time": "2023-07-09T23:15:19.463043Z"
    }
   },
   "outputs": [
    {
     "data": {
      "text/html": [
       "<div>\n",
       "<style scoped>\n",
       "    .dataframe tbody tr th:only-of-type {\n",
       "        vertical-align: middle;\n",
       "    }\n",
       "\n",
       "    .dataframe tbody tr th {\n",
       "        vertical-align: top;\n",
       "    }\n",
       "\n",
       "    .dataframe thead th {\n",
       "        text-align: right;\n",
       "    }\n",
       "</style>\n",
       "<table border=\"1\" class=\"dataframe\">\n",
       "  <thead>\n",
       "    <tr style=\"text-align: right;\">\n",
       "      <th></th>\n",
       "      <th>attributes</th>\n",
       "      <th>mean</th>\n",
       "      <th>median</th>\n",
       "      <th>std</th>\n",
       "      <th>min</th>\n",
       "      <th>max</th>\n",
       "      <th>skew</th>\n",
       "      <th>kurtosis</th>\n",
       "    </tr>\n",
       "  </thead>\n",
       "  <tbody>\n",
       "    <tr>\n",
       "      <th>0</th>\n",
       "      <td>county</td>\n",
       "      <td>7.2970</td>\n",
       "      <td>7.0000</td>\n",
       "      <td>4.7810</td>\n",
       "      <td>0.0000</td>\n",
       "      <td>15.0000</td>\n",
       "      <td>0.0234</td>\n",
       "      <td>-1.2282</td>\n",
       "    </tr>\n",
       "    <tr>\n",
       "      <th>1</th>\n",
       "      <td>is_business</td>\n",
       "      <td>0.5368</td>\n",
       "      <td>1.0000</td>\n",
       "      <td>0.4986</td>\n",
       "      <td>0.0000</td>\n",
       "      <td>1.0000</td>\n",
       "      <td>-0.1477</td>\n",
       "      <td>-1.9782</td>\n",
       "    </tr>\n",
       "    <tr>\n",
       "      <th>2</th>\n",
       "      <td>product_type</td>\n",
       "      <td>1.8989</td>\n",
       "      <td>2.0000</td>\n",
       "      <td>1.0818</td>\n",
       "      <td>0.0000</td>\n",
       "      <td>3.0000</td>\n",
       "      <td>-0.1992</td>\n",
       "      <td>-1.5245</td>\n",
       "    </tr>\n",
       "    <tr>\n",
       "      <th>3</th>\n",
       "      <td>target</td>\n",
       "      <td>274.8556</td>\n",
       "      <td>31.1330</td>\n",
       "      <td>909.5024</td>\n",
       "      <td>0.0000</td>\n",
       "      <td>15,480.2740</td>\n",
       "      <td>7.6761</td>\n",
       "      <td>73.3034</td>\n",
       "    </tr>\n",
       "    <tr>\n",
       "      <th>4</th>\n",
       "      <td>is_consumption</td>\n",
       "      <td>0.5000</td>\n",
       "      <td>0.5000</td>\n",
       "      <td>0.5000</td>\n",
       "      <td>0.0000</td>\n",
       "      <td>1.0000</td>\n",
       "      <td>0.0000</td>\n",
       "      <td>-2.0000</td>\n",
       "    </tr>\n",
       "    <tr>\n",
       "      <th>5</th>\n",
       "      <td>data_block_id</td>\n",
       "      <td>321.8746</td>\n",
       "      <td>323.0000</td>\n",
       "      <td>182.6343</td>\n",
       "      <td>0.0000</td>\n",
       "      <td>637.0000</td>\n",
       "      <td>-0.0189</td>\n",
       "      <td>-1.1823</td>\n",
       "    </tr>\n",
       "    <tr>\n",
       "      <th>6</th>\n",
       "      <td>row_id</td>\n",
       "      <td>1,009,175.5000</td>\n",
       "      <td>1,009,175.5000</td>\n",
       "      <td>582,648.1796</td>\n",
       "      <td>0.0000</td>\n",
       "      <td>2,018,351.0000</td>\n",
       "      <td>-0.0000</td>\n",
       "      <td>-1.2000</td>\n",
       "    </tr>\n",
       "    <tr>\n",
       "      <th>7</th>\n",
       "      <td>prediction_unit_id</td>\n",
       "      <td>33.0454</td>\n",
       "      <td>33.0000</td>\n",
       "      <td>19.5906</td>\n",
       "      <td>0.0000</td>\n",
       "      <td>68.0000</td>\n",
       "      <td>0.0190</td>\n",
       "      <td>-1.2110</td>\n",
       "    </tr>\n",
       "  </tbody>\n",
       "</table>\n",
       "</div>"
      ],
      "text/plain": [
       "           attributes           mean         median          std    min  \\\n",
       "0              county         7.2970         7.0000       4.7810 0.0000   \n",
       "1         is_business         0.5368         1.0000       0.4986 0.0000   \n",
       "2        product_type         1.8989         2.0000       1.0818 0.0000   \n",
       "3              target       274.8556        31.1330     909.5024 0.0000   \n",
       "4      is_consumption         0.5000         0.5000       0.5000 0.0000   \n",
       "5       data_block_id       321.8746       323.0000     182.6343 0.0000   \n",
       "6              row_id 1,009,175.5000 1,009,175.5000 582,648.1796 0.0000   \n",
       "7  prediction_unit_id        33.0454        33.0000      19.5906 0.0000   \n",
       "\n",
       "             max    skew  kurtosis  \n",
       "0        15.0000  0.0234   -1.2282  \n",
       "1         1.0000 -0.1477   -1.9782  \n",
       "2         3.0000 -0.1992   -1.5245  \n",
       "3    15,480.2740  7.6761   73.3034  \n",
       "4         1.0000  0.0000   -2.0000  \n",
       "5       637.0000 -0.0189   -1.1823  \n",
       "6 2,018,351.0000 -0.0000   -1.2000  \n",
       "7        68.0000  0.0190   -1.2110  "
      ]
     },
     "execution_count": 78,
     "metadata": {},
     "output_type": "execute_result"
    }
   ],
   "source": [
    "# Alternative Code\n",
    "num_attributes.agg([\"mean\",\"median\",\"std\",\"min\",\"max\",\"skew\",\"kurtosis\"]).T.reset_index().rename(columns={'index': 'attributes'})"
   ]
  },
  {
   "cell_type": "markdown",
   "id": "0f160da1",
   "metadata": {},
   "source": [
    "### 1.5.2 Categorical Attributes"
   ]
  },
  {
   "cell_type": "code",
   "execution_count": 79,
   "id": "a52e4b34",
   "metadata": {
    "ExecuteTime": {
     "end_time": "2023-07-09T23:15:26.054506Z",
     "start_time": "2023-07-09T23:15:25.917357Z"
    }
   },
   "outputs": [
    {
     "name": "stdout",
     "output_type": "stream",
     "text": [
      "Valor minimo: 2021-09-01 00:00:00\n",
      "Valor maximo: 2023-05-31 23:00:00\n"
     ]
    }
   ],
   "source": [
    "print('Valor minimo:', format(df1['datetime'].min()))\n",
    "print('Valor maximo:', format(df1['datetime'].max()))"
   ]
  },
  {
   "cell_type": "markdown",
   "id": "fef014ed",
   "metadata": {},
   "source": [
    "# 2.0 FEATURE ENGINEERING"
   ]
  },
  {
   "cell_type": "code",
   "execution_count": 80,
   "id": "a2a17910",
   "metadata": {
    "ExecuteTime": {
     "end_time": "2023-07-09T23:15:26.461530Z",
     "start_time": "2023-07-09T23:15:26.413260Z"
    }
   },
   "outputs": [],
   "source": [
    "df2 = df1.copy()"
   ]
  },
  {
   "cell_type": "markdown",
   "id": "7dd29371",
   "metadata": {},
   "source": [
    "## 2.4 - Feature Engineering"
   ]
  },
  {
   "cell_type": "code",
   "execution_count": 81,
   "metadata": {},
   "outputs": [
    {
     "data": {
      "text/html": [
       "<div>\n",
       "<style scoped>\n",
       "    .dataframe tbody tr th:only-of-type {\n",
       "        vertical-align: middle;\n",
       "    }\n",
       "\n",
       "    .dataframe tbody tr th {\n",
       "        vertical-align: top;\n",
       "    }\n",
       "\n",
       "    .dataframe thead th {\n",
       "        text-align: right;\n",
       "    }\n",
       "</style>\n",
       "<table border=\"1\" class=\"dataframe\">\n",
       "  <thead>\n",
       "    <tr style=\"text-align: right;\">\n",
       "      <th></th>\n",
       "      <th>county</th>\n",
       "      <th>is_business</th>\n",
       "      <th>product_type</th>\n",
       "      <th>target</th>\n",
       "      <th>is_consumption</th>\n",
       "      <th>datetime</th>\n",
       "      <th>data_block_id</th>\n",
       "      <th>row_id</th>\n",
       "      <th>prediction_unit_id</th>\n",
       "    </tr>\n",
       "  </thead>\n",
       "  <tbody>\n",
       "    <tr>\n",
       "      <th>0</th>\n",
       "      <td>0</td>\n",
       "      <td>0</td>\n",
       "      <td>1</td>\n",
       "      <td>0.7130</td>\n",
       "      <td>0</td>\n",
       "      <td>2021-09-01</td>\n",
       "      <td>0</td>\n",
       "      <td>0</td>\n",
       "      <td>0</td>\n",
       "    </tr>\n",
       "    <tr>\n",
       "      <th>1</th>\n",
       "      <td>0</td>\n",
       "      <td>0</td>\n",
       "      <td>1</td>\n",
       "      <td>96.5900</td>\n",
       "      <td>1</td>\n",
       "      <td>2021-09-01</td>\n",
       "      <td>0</td>\n",
       "      <td>1</td>\n",
       "      <td>0</td>\n",
       "    </tr>\n",
       "    <tr>\n",
       "      <th>2</th>\n",
       "      <td>0</td>\n",
       "      <td>0</td>\n",
       "      <td>2</td>\n",
       "      <td>0.0000</td>\n",
       "      <td>0</td>\n",
       "      <td>2021-09-01</td>\n",
       "      <td>0</td>\n",
       "      <td>2</td>\n",
       "      <td>1</td>\n",
       "    </tr>\n",
       "    <tr>\n",
       "      <th>3</th>\n",
       "      <td>0</td>\n",
       "      <td>0</td>\n",
       "      <td>2</td>\n",
       "      <td>17.3140</td>\n",
       "      <td>1</td>\n",
       "      <td>2021-09-01</td>\n",
       "      <td>0</td>\n",
       "      <td>3</td>\n",
       "      <td>1</td>\n",
       "    </tr>\n",
       "    <tr>\n",
       "      <th>4</th>\n",
       "      <td>0</td>\n",
       "      <td>0</td>\n",
       "      <td>3</td>\n",
       "      <td>2.9040</td>\n",
       "      <td>0</td>\n",
       "      <td>2021-09-01</td>\n",
       "      <td>0</td>\n",
       "      <td>4</td>\n",
       "      <td>2</td>\n",
       "    </tr>\n",
       "  </tbody>\n",
       "</table>\n",
       "</div>"
      ],
      "text/plain": [
       "   county  is_business  product_type  target  is_consumption   datetime  \\\n",
       "0       0            0             1  0.7130               0 2021-09-01   \n",
       "1       0            0             1 96.5900               1 2021-09-01   \n",
       "2       0            0             2  0.0000               0 2021-09-01   \n",
       "3       0            0             2 17.3140               1 2021-09-01   \n",
       "4       0            0             3  2.9040               0 2021-09-01   \n",
       "\n",
       "   data_block_id  row_id  prediction_unit_id  \n",
       "0              0       0                   0  \n",
       "1              0       1                   0  \n",
       "2              0       2                   1  \n",
       "3              0       3                   1  \n",
       "4              0       4                   2  "
      ]
     },
     "execution_count": 81,
     "metadata": {},
     "output_type": "execute_result"
    }
   ],
   "source": [
    "df2.head()"
   ]
  },
  {
   "cell_type": "code",
   "execution_count": 96,
   "id": "0c46332f",
   "metadata": {
    "ExecuteTime": {
     "end_time": "2023-07-09T23:16:05.026155Z",
     "start_time": "2023-07-09T23:15:26.659954Z"
    }
   },
   "outputs": [],
   "source": [
    "# year\n",
    "df2['year'] = df2['datetime'].dt.year\n",
    "\n",
    "# month\n",
    "df2['month'] = df2['datetime'].dt.month\n",
    "\n",
    "# day\n",
    "df2['day'] = df2['datetime'].dt.day\n",
    "\n",
    "# week of year\n",
    "df2['week_of_year'] = df2['datetime'].dt.isocalendar().week\n",
    "\n",
    "# year week\n",
    "df2['year_week'] = df2['datetime'].dt.strftime( '%Y-%W' )\n",
    "\n",
    "# year month\n",
    "df2['year_month'] = df2['datetime'].dt.strftime( '%H-%m' )\n",
    "\n",
    "# day period \n",
    "df2['day_period'] = df2['datetime'].apply(day_period)"
   ]
  },
  {
   "cell_type": "markdown",
   "id": "cf9c4d06",
   "metadata": {},
   "source": [
    "# 3.0 DATA FILTERING"
   ]
  },
  {
   "cell_type": "code",
   "execution_count": 97,
   "id": "459a4005",
   "metadata": {
    "ExecuteTime": {
     "end_time": "2023-07-09T23:16:05.558145Z",
     "start_time": "2023-07-09T23:16:05.041466Z"
    }
   },
   "outputs": [],
   "source": [
    "df3 = df2.copy()"
   ]
  },
  {
   "cell_type": "markdown",
   "id": "daf8f03f",
   "metadata": {},
   "source": [
    "## 3.1 - Filtragem das Linhas"
   ]
  },
  {
   "cell_type": "code",
   "execution_count": 98,
   "id": "4d645f1d",
   "metadata": {
    "ExecuteTime": {
     "end_time": "2023-07-09T23:16:05.665588Z",
     "start_time": "2023-07-09T23:16:05.560102Z"
    }
   },
   "outputs": [],
   "source": [
    "df3 = df3[~df3['target'].isna()]"
   ]
  },
  {
   "cell_type": "markdown",
   "id": "f041e25e",
   "metadata": {},
   "source": [
    "# 4.0 EXPLORATORY DATA ANALYSIS"
   ]
  },
  {
   "cell_type": "code",
   "execution_count": 99,
   "id": "49c485e6",
   "metadata": {
    "ExecuteTime": {
     "end_time": "2023-07-09T23:16:05.823396Z",
     "start_time": "2023-07-09T23:16:05.734148Z"
    }
   },
   "outputs": [],
   "source": [
    "df4 = df3.copy()"
   ]
  },
  {
   "cell_type": "markdown",
   "id": "4ecfd3cc",
   "metadata": {},
   "source": [
    "## 4.1 - Univariate Analysis"
   ]
  },
  {
   "cell_type": "markdown",
   "id": "c0e705a9",
   "metadata": {},
   "source": [
    "### 4.1.1 - Response Variable"
   ]
  },
  {
   "cell_type": "code",
   "execution_count": 100,
   "id": "a5a19899",
   "metadata": {
    "ExecuteTime": {
     "end_time": "2023-07-09T23:16:06.891516Z",
     "start_time": "2023-07-09T23:16:05.825210Z"
    },
    "hide_input": false,
    "scrolled": true
   },
   "outputs": [],
   "source": [
    "plt.figure(figsize=(18,8))\n",
    "ax = sns.lineplot(x='year_month', y='target', data=df4)\n",
    "ax.set_xticklabels(ax.get_xticklabels(), rotation=45, ha='right');"
   ]
  },
  {
   "cell_type": "markdown",
   "id": "1223943b",
   "metadata": {},
   "source": [
    "### 4.1.2 - Numerical Variable"
   ]
  },
  {
   "cell_type": "code",
   "execution_count": null,
   "id": "b54fe979",
   "metadata": {
    "ExecuteTime": {
     "end_time": "2023-07-09T23:16:08.634447Z",
     "start_time": "2023-07-09T23:16:06.893421Z"
    },
    "hide_input": true
   },
   "outputs": [
    {
     "data": {
      "image/png": "[encoded data removed]",
      "text/plain": [
       "<Figure size 2000x1200 with 9 Axes>"
      ]
     },
     "metadata": {},
     "output_type": "display_data"
    }
   ],
   "source": [
    "num_attributes.hist(figsize=(20,12), bins=25);"
   ]
  },
  {
   "cell_type": "markdown",
   "id": "67d54a2a",
   "metadata": {},
   "source": [
    "## 4.2 - Bivariate Analysis"
   ]
  },
  {
   "cell_type": "markdown",
   "id": "1e388025",
   "metadata": {},
   "source": [
    "### H1 - Example\n",
    "**FALSE** or **TRUE** - Explanation"
   ]
  },
  {
   "cell_type": "code",
   "execution_count": null,
   "id": "c1b2b1f5",
   "metadata": {},
   "outputs": [
    {
     "data": {
      "text/plain": [
       "array([ 0,  1,  2,  3,  4,  5,  6,  7,  8,  9, 10, 11, 12, 13, 14, 15])"
      ]
     },
     "execution_count": 44,
     "metadata": {},
     "output_type": "execute_result"
    }
   ],
   "source": [
    "df4['county'].unique()"
   ]
  },
  {
   "cell_type": "markdown",
   "id": "e7ccb119",
   "metadata": {},
   "source": [
    "## 4.3 - Multivariate Analysis"
   ]
  },
  {
   "cell_type": "markdown",
   "id": "ef36b344",
   "metadata": {},
   "source": [
    "### 4.3.1 - Numerical Attributes"
   ]
  },
  {
   "cell_type": "code",
   "execution_count": 43,
   "id": "f62472e1",
   "metadata": {
    "ExecuteTime": {
     "end_time": "2023-07-09T23:16:26.835200Z",
     "start_time": "2023-07-09T23:16:25.409980Z"
    }
   },
   "outputs": [
    {
     "data": {
      "image/png": "[encoded data removed]",
      "text/plain": [
       "<Figure size 1600x1000 with 2 Axes>"
      ]
     },
     "metadata": {},
     "output_type": "display_data"
    }
   ],
   "source": [
    "correlation = num_attributes.corr(method='pearson')\n",
    "\n",
    "plt.figure(figsize=(16,10))\n",
    "sns.heatmap(correlation, annot=True);"
   ]
  },
  {
   "cell_type": "markdown",
   "id": "af5b262f",
   "metadata": {},
   "source": [
    "### 4.3.2 - Caterogical Attributes"
   ]
  },
  {
   "cell_type": "code",
   "execution_count": null,
   "id": "9a2a053a",
   "metadata": {
    "ExecuteTime": {
     "end_time": "2023-07-09T23:16:26.845215Z",
     "start_time": "2023-07-09T23:16:26.836829Z"
    }
   },
   "outputs": [],
   "source": [
    "a = df4.select_dtypes( include='object' )\n",
    "a"
   ]
  },
  {
   "cell_type": "code",
   "execution_count": null,
   "id": "af8d40f2",
   "metadata": {},
   "outputs": [],
   "source": [
    "# only categorical data\n",
    "a = df4.select_dtypes( include='object' )\n",
    "cramer_v(a['<cols>'])\n"
   ]
  },
  {
   "cell_type": "markdown",
   "id": "346f27a2",
   "metadata": {},
   "source": [
    "## 4.4 - Resumo das Hipoteses"
   ]
  },
  {
   "cell_type": "code",
   "execution_count": null,
   "id": "1c62d1f8",
   "metadata": {
    "ExecuteTime": {
     "end_time": "2023-07-09T23:16:28.199028Z",
     "start_time": "2023-07-09T23:16:28.194276Z"
    },
    "hide_input": true
   },
   "outputs": [],
   "source": [
    "tab =[\n",
    "['Hipoteses', 'Conclusao', 'Relevancia'],\n",
    "['H1', 'Falsa', 'Baixa'],\n",
    "['H2', 'Falsa', 'Media'],\n",
    "['H3', 'Verdadeira', 'Alta']\n",
    "]\n",
    "print( tabulate( tab, headers='firstrow' ) )"
   ]
  },
  {
   "cell_type": "markdown",
   "id": "f28c01a8",
   "metadata": {},
   "source": [
    "# 5.0 DATA PREPARATION"
   ]
  },
  {
   "cell_type": "code",
   "execution_count": null,
   "id": "dcee807e",
   "metadata": {
    "ExecuteTime": {
     "end_time": "2023-07-09T23:16:28.355763Z",
     "start_time": "2023-07-09T23:16:28.200155Z"
    }
   },
   "outputs": [],
   "source": [
    "df5 = df4.copy()"
   ]
  },
  {
   "cell_type": "markdown",
   "id": "874584e0",
   "metadata": {},
   "source": [
    "## 5.1 - Normalizacao"
   ]
  },
  {
   "cell_type": "code",
   "execution_count": null,
   "id": "5962a74a",
   "metadata": {},
   "outputs": [],
   "source": []
  },
  {
   "cell_type": "markdown",
   "id": "68c03e8e",
   "metadata": {},
   "source": [
    "## 5.2 - Rescaling"
   ]
  },
  {
   "cell_type": "code",
   "execution_count": null,
   "id": "6da83450",
   "metadata": {
    "ExecuteTime": {
     "end_time": "2023-07-09T23:16:28.879045Z",
     "start_time": "2023-07-09T23:16:28.358045Z"
    },
    "hide_input": true
   },
   "outputs": [],
   "source": [
    "plt.figure(figsize=(16,10))\n",
    "sns.boxplot(y=df5['<var>']);"
   ]
  },
  {
   "cell_type": "code",
   "execution_count": null,
   "id": "52c766ff",
   "metadata": {
    "ExecuteTime": {
     "end_time": "2023-07-09T23:16:29.539222Z",
     "start_time": "2023-07-09T23:16:28.880492Z"
    },
    "hide_input": false
   },
   "outputs": [],
   "source": [
    "dir_parameter = 'src/parameter/'\n",
    "\n",
    "# Example RobustScaler\n",
    "rs = RobustScaler()\n",
    "df5['<var>'] = rs.fit_transform( df5[['<var>']].values )\n",
    "pickle.dump( rs, open(dir_parameter + '<archive>.pkl', 'wb') )\n",
    "\n",
    "# Example MinMaxScaler\n",
    "mms = MinMaxScaler()\n",
    "df5['<var>'] = mms.fit_transform( df5[['<var>']].values )\n",
    "pickle.dump( mms, open(dir_parameter + '<archive>.pkl', 'wb') )"
   ]
  },
  {
   "cell_type": "markdown",
   "id": "be2c270e",
   "metadata": {},
   "source": [
    "## 5.3 - Transformacao"
   ]
  },
  {
   "cell_type": "markdown",
   "id": "53d6918f",
   "metadata": {},
   "source": [
    "### 5.3.1 - Encoding"
   ]
  },
  {
   "cell_type": "code",
   "execution_count": null,
   "id": "bc74b685",
   "metadata": {
    "ExecuteTime": {
     "end_time": "2023-07-09T23:16:31.036275Z",
     "start_time": "2023-07-09T23:16:29.540755Z"
    }
   },
   "outputs": [],
   "source": [
    "dir_parameter = 'src/parameter/'\n",
    "\n",
    "# Example One Hot Encoding\n",
    "df5 = pd.get_dummies( df5, prefix=['<var>'], columns=['<var>'] )\n",
    "\n",
    "# Example Label Encoding\n",
    "le = LabelEncoder()\n",
    "df5['<var>'] = le.fit_transform( df5['<var>'] )\n",
    "pickle.dump( le, open(dir_parameter + '<archive>.pkl', 'wb') )\n",
    "\n",
    "# Example Ordinal Encoding\n",
    "assortment_dict = {'basic': 1, 'extra': 2, 'extented': 3}\n",
    "df5['<var>'] = df5['<var>'].map( assortment_dict )"
   ]
  },
  {
   "cell_type": "markdown",
   "id": "31d729fc",
   "metadata": {},
   "source": [
    "### 5.3.2 - Response Variable Transformation"
   ]
  },
  {
   "cell_type": "code",
   "execution_count": null,
   "id": "27ee905f",
   "metadata": {
    "ExecuteTime": {
     "end_time": "2023-07-09T23:16:34.149547Z",
     "start_time": "2023-07-09T23:16:31.038003Z"
    }
   },
   "outputs": [],
   "source": [
    "# Example\n",
    "df5['<var>'] = np.log1p( df5['<var>'] )\n",
    "\n",
    "plt.figure(figsize=(16,10))\n",
    "sns.distplot(df5['<var>'])"
   ]
  },
  {
   "cell_type": "markdown",
   "id": "7f8eddbd",
   "metadata": {},
   "source": [
    "### 5.3.3 - Nature Transformation"
   ]
  },
  {
   "cell_type": "code",
   "execution_count": null,
   "id": "9213499a",
   "metadata": {
    "ExecuteTime": {
     "end_time": "2023-07-09T23:16:43.070350Z",
     "start_time": "2023-07-09T23:16:34.151738Z"
    }
   },
   "outputs": [],
   "source": [
    "# day_of_week\n",
    "df5['day_of_week_sin'] = df5['day_of_week'].apply( lambda x: np.sin( x * ( 2. * np.pi/7 ) ) )\n",
    "df5['day_of_week_cos'] = df5['day_of_week'].apply( lambda x: np.cos( x * ( 2. * np.pi/7 ) ) )\n",
    "\n",
    "# month\n",
    "df5['month_sin'] = df5['month'].apply( lambda x: np.sin( x * ( 2. * np.pi/12 ) ) )\n",
    "df5['month_cos'] = df5['month'].apply( lambda x: np.cos( x * ( 2. * np.pi/12 ) ) )\n",
    "\n",
    "# day \n",
    "df5['day_sin'] = df5['day'].apply( lambda x: np.sin( x * ( 2. * np.pi/30 ) ) )\n",
    "df5['day_cos'] = df5['day'].apply( lambda x: np.cos( x * ( 2. * np.pi/30 ) ) )\n",
    "\n",
    "# week_of_year\n",
    "df5['week_of_year_sin'] = df5['week_of_year'].apply( lambda x: np.sin( x * ( 2. * np.pi/52 ) ) )\n",
    "df5['week_of_year_cos'] = df5['week_of_year'].apply( lambda x: np.cos( x * ( 2. * np.pi/52 ) ) )"
   ]
  },
  {
   "cell_type": "markdown",
   "id": "96b129e3",
   "metadata": {},
   "source": [
    "# 6.0 FEATURE SELECTION"
   ]
  },
  {
   "cell_type": "code",
   "execution_count": null,
   "id": "db294031",
   "metadata": {
    "ExecuteTime": {
     "end_time": "2023-07-09T23:16:44.212977Z",
     "start_time": "2023-07-09T23:16:43.071908Z"
    }
   },
   "outputs": [],
   "source": [
    "df6 = df5.copy()\n",
    "\n",
    "cols_drop = []\n",
    "df6.drop(cols_drop, axis=1, inplace=True)"
   ]
  },
  {
   "cell_type": "markdown",
   "id": "a38e9af4",
   "metadata": {},
   "source": [
    "## 6.1 - Split Dataframe into training and test dataset"
   ]
  },
  {
   "cell_type": "code",
   "execution_count": null,
   "id": "3a196363",
   "metadata": {
    "ExecuteTime": {
     "end_time": "2023-07-09T23:16:44.632792Z",
     "start_time": "2023-07-09T23:16:44.214923Z"
    },
    "scrolled": true
   },
   "outputs": [],
   "source": [
    "X = df6.drop('<var>', axis=1)\n",
    "Y = df6['<var>']\n",
    "\n",
    "x_train, x_test, y_train, y_test = train_test_split(X, Y, test_size=0.2 ,random_state=42)"
   ]
  },
  {
   "cell_type": "markdown",
   "id": "e8835cfc",
   "metadata": {},
   "source": [
    "# 7.0 MACHINE LEARNING MODELLING"
   ]
  },
  {
   "cell_type": "markdown",
   "id": "563d6427",
   "metadata": {},
   "source": [
    "## 7.1 Example Model"
   ]
  },
  {
   "cell_type": "code",
   "execution_count": null,
   "id": "73a61921",
   "metadata": {
    "ExecuteTime": {
     "end_time": "2023-07-09T23:16:50.711056Z",
     "start_time": "2023-07-09T23:16:47.625150Z"
    }
   },
   "outputs": [],
   "source": [
    "# model\n",
    "lr = LinearRegression().fit( x_train, y_train )\n",
    "\n",
    "# prediction\n",
    "yhat_lr = lr.predict( x_test )\n",
    "\n",
    "# performance\n",
    "lr_result = ml_error( 'Linear Regression', np.expm1(y_test), np.expm1(yhat_lr) )\n",
    "lr_result"
   ]
  },
  {
   "cell_type": "markdown",
   "id": "4614a5e5",
   "metadata": {},
   "source": [
    "### 7.1.1 Example Model - Cross Validation"
   ]
  },
  {
   "cell_type": "code",
   "execution_count": null,
   "id": "baec4621",
   "metadata": {
    "ExecuteTime": {
     "end_time": "2023-07-09T23:16:55.428155Z",
     "start_time": "2023-07-09T23:16:50.712869Z"
    }
   },
   "outputs": [],
   "source": [
    "lr_result_cv = cross_validation( x_training, 5, 'Linear Regression', lr )\n",
    "lr_result_cv"
   ]
  },
  {
   "cell_type": "markdown",
   "id": "94877815",
   "metadata": {},
   "source": [
    "# 8.0 HYPERPARAMETER FINE TUNING"
   ]
  },
  {
   "cell_type": "code",
   "execution_count": null,
   "id": "66f2fef6",
   "metadata": {},
   "outputs": [],
   "source": []
  },
  {
   "cell_type": "markdown",
   "id": "e8c8ebf4",
   "metadata": {},
   "source": [
    "# 9.0 TRANSLATE AND INTERPRETATION ERROR"
   ]
  },
  {
   "cell_type": "markdown",
   "id": "8013f45b",
   "metadata": {},
   "source": [
    "## 9.1 Business Performance"
   ]
  },
  {
   "cell_type": "code",
   "execution_count": null,
   "id": "22b99d58",
   "metadata": {
    "ExecuteTime": {
     "end_time": "2023-07-09T23:33:44.406590Z",
     "start_time": "2023-07-09T23:33:43.522232Z"
    }
   },
   "outputs": [],
   "source": []
  },
  {
   "cell_type": "markdown",
   "id": "3f82b977",
   "metadata": {},
   "source": [
    "## 9.2 Total Performance"
   ]
  },
  {
   "cell_type": "code",
   "execution_count": null,
   "id": "11f8f949",
   "metadata": {},
   "outputs": [],
   "source": []
  },
  {
   "cell_type": "markdown",
   "id": "3c6070ac",
   "metadata": {},
   "source": [
    "## 9.3 Macinhe Learning Performance"
   ]
  },
  {
   "cell_type": "code",
   "execution_count": null,
   "id": "bc963e9a",
   "metadata": {},
   "outputs": [],
   "source": []
  }
 ],
 "metadata": {
  "kernelspec": {
   "display_name": "Python 3 (ipykernel)",
   "language": "python",
   "name": "python3"
  },
  "language_info": {
   "codemirror_mode": {
    "name": "ipython",
    "version": 3
   },
   "file_extension": ".py",
   "mimetype": "text/x-python",
   "name": "python",
   "nbconvert_exporter": "python",
   "pygments_lexer": "ipython3",
   "version": "3.10.12"
  },
  "varInspector": {
   "cols": {
    "lenName": 16,
    "lenType": 16,
    "lenVar": 40
   },
   "kernels_config": {
    "python": {
     "delete_cmd_postfix": "",
     "delete_cmd_prefix": "del ",
     "library": "var_list.py",
     "varRefreshCmd": "print(var_dic_list())"
    },
    "r": {
     "delete_cmd_postfix": ") ",
     "delete_cmd_prefix": "rm(",
     "library": "var_list.r",
     "varRefreshCmd": "cat(var_dic_list()) "
    }
   },
   "types_to_exclude": [
    "module",
    "function",
    "builtin_function_or_method",
    "instance",
    "_Feature"
   ],
   "window_display": false
  }
 },
 "nbformat": 4,
 "nbformat_minor": 5
}
