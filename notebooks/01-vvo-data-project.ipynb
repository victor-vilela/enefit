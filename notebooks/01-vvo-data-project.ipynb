{
 "cells": [
  {
   "cell_type": "markdown",
   "id": "c67fd87e",
   "metadata": {},
   "source": [
    "# 0.0 IMPORTS"
   ]
  },
  {
   "cell_type": "code",
   "execution_count": 1,
   "id": "a57500bf",
   "metadata": {
    "ExecuteTime": {
     "end_time": "2023-07-09T23:14:21.239883Z",
     "start_time": "2023-07-09T23:14:12.683463Z"
    }
   },
   "outputs": [],
   "source": [
    "import inflection\n",
    "import math\n",
    "import datetime\n",
    "import warnings\n",
    "import pickle\n",
    "import seaborn                          as sns\n",
    "import pandas                           as pd\n",
    "import numpy                            as np\n",
    "import matplotlib.pyplot                as plt\n",
    "# import xgboost                          as xgb\n",
    "\n",
    "from scipy                 import stats as ss\n",
    "from IPython.display       import Image\n",
    "from tabulate              import tabulate\n",
    "\n",
    "from sklearn.preprocessing import RobustScaler, MinMaxScaler, LabelEncoder\n",
    "from sklearn.metrics       import mean_absolute_error, mean_absolute_percentage_error, mean_squared_error\n",
    "from sklearn.model_selection import train_test_split"
   ]
  },
  {
   "cell_type": "markdown",
   "id": "a7848568",
   "metadata": {},
   "source": [
    "## 0.1 Helper Functions"
   ]
  },
  {
   "cell_type": "code",
   "execution_count": 2,
   "id": "a69db5ae",
   "metadata": {
    "ExecuteTime": {
     "end_time": "2023-07-09T23:14:21.247820Z",
     "start_time": "2023-07-09T23:14:21.244123Z"
    }
   },
   "outputs": [],
   "source": [
    "warnings.filterwarnings('ignore')\n",
    "pd.options.display.float_format = \"{:,.4f}\".format"
   ]
  },
  {
   "cell_type": "code",
   "execution_count": 3,
   "id": "2a4384cd",
   "metadata": {
    "ExecuteTime": {
     "end_time": "2023-07-09T23:14:21.398281Z",
     "start_time": "2023-07-09T23:14:21.250501Z"
    }
   },
   "outputs": [],
   "source": [
    "def cramer_v( x, y ):\n",
    "    cm = pd.crosstab( x, y ).values\n",
    "    n = cm.sum()\n",
    "    r, k = cm.shape\n",
    "    chi2 = ss.chi2_contingency( cm )[0]\n",
    "    chi2corr = max( 0, chi2 - (k-1)*(r-1)/(n-1) )\n",
    "    kcorr = k - (k-1)**2/(n-1)\n",
    "    rcorr = r - (r-1)**2/(n-1)\n",
    "    \n",
    "    return np.sqrt( (chi2corr/n) / ( min( kcorr-1, rcorr-1 ) ) )\n",
    "\n",
    "# Model Avaliation \n",
    "def ml_error( model_name, y, yhat ):\n",
    "    mae = mean_absolute_error( y, yhat )\n",
    "    mape = mean_absolute_percentage_error( y, yhat )\n",
    "    rmse = np.sqrt( mean_squared_error( y, yhat ) ) \n",
    "    \n",
    "    return pd.DataFrame( {'Model Name': model_name,\n",
    "                          'MAE': mae,\n",
    "                          'MAPE': mape,\n",
    "                          'RMSE': rmse}, index=[0] )\n",
    "\n",
    "# Cross Validation\n",
    "def cross_validation( x_training, kfold, model_name, model, verbose=False):\n",
    "\n",
    "    mae_list= []\n",
    "    mape_list= []\n",
    "    rmse_list= []\n",
    "    \n",
    "    for k in reversed( range( 1, kfold+1 ) ):\n",
    "        if verbose:\n",
    "            print('\\nKFold Number: ', k)\n",
    "        # start and end date for validation\n",
    "        validation_start_date = x_training['date'].max() - datetime.timedelta( days=k*6*7 )\n",
    "        validation_end_date = x_training['date'].max() - datetime.timedelta( days=k*6*7 )\n",
    "        \n",
    "        # filtering dataset\n",
    "        training = x_training[x_training['date'] < validation_start_date]\n",
    "        validation = x_training[(x_training['date'] >= validation_start_date) & (x_training['date'] <= validation_end_date)]\n",
    "        \n",
    "        # training and validation dataset\n",
    "        xtraining = training.drop(['date', 'sales'], axis=1)\n",
    "        ytraining = training['sales']\n",
    "        \n",
    "        xvalidation = validation.drop(['date', 'sales'], axis=1)\n",
    "        yvalidation = validation['sales']\n",
    "        \n",
    "        # model\n",
    "        m = model.fit(xtraining, ytraining)\n",
    "        \n",
    "        # prediction\n",
    "        yhat = m.predict(xvalidation)\n",
    "        \n",
    "        # performance\n",
    "        m_result = ml_error(model_name, np.expm1(yvalidation), np.expm1(yhat))\n",
    "        \n",
    "        # store performance of each kfold iteration\n",
    "        mae_list.append( m_result['MAE'] )\n",
    "        mape_list.append( m_result['MAPE'] )\n",
    "        rmse_list.append( m_result['RMSE'] )\n",
    "        \n",
    "    return pd.DataFrame( {\n",
    "            'Model Name': model_name,\n",
    "            'MAE CV': np.round( np.mean(mae_list), 2 ).astype(str) + \" +/- \" + np.round( np.std(mae_list), 2 ).astype(str),\n",
    "            'MAPE CV': np.round( np.mean(mape_list), 2 ).astype(str) + \" +/- \" + np.round( np.std(mape_list), 2 ).astype(str),\n",
    "            'RMSE CV': np.round( np.mean(rmse_list), 2 ).astype(str) + \" +/- \" + np.round( np.std(rmse_list), 2 ).astype(str)\n",
    "        }, index=[0] )\n",
    "\n",
    "\n",
    "def mean_percentage_error( y, yhat ):\n",
    "    return np.mean( (y-yhat) / y )"
   ]
  },
  {
   "cell_type": "markdown",
   "id": "16de90d0",
   "metadata": {},
   "source": [
    "## 0.2 Loading Data"
   ]
  },
  {
   "cell_type": "code",
   "execution_count": 23,
   "id": "cdaa3384",
   "metadata": {
    "ExecuteTime": {
     "end_time": "2023-07-09T23:14:24.315533Z",
     "start_time": "2023-07-09T23:14:21.401530Z"
    }
   },
   "outputs": [],
   "source": [
    "path_data = \"../data/raw/\"\n",
    "file = \"train.csv\"\n",
    "\n",
    "# CSV\n",
    "df_raw = pd.read_csv(path_data + file, low_memory=False)\n",
    "df_raw1 = pd.read_csv(path_data + 'weather_station_to_county_mapping.csv', low_memory=False)\n",
    "\n",
    "# EXCEL\n",
    "# df_raw = pd.read_excel(dir + file, low_memory=False)\n",
    "\n",
    "# PARQUET\n",
    "# df_raw = pd.read_parquet(dir + file, low_memory=False)"
   ]
  },
  {
   "cell_type": "code",
   "execution_count": 32,
   "metadata": {},
   "outputs": [
    {
     "name": "stdout",
     "output_type": "stream",
     "text": [
      "Coordenada (58.314502, 26.567954) está dentro de uma região da Estônia.\n",
      "Coordenada (58.601123, 22.255536) não está dentro de uma região da Estônia.\n",
      "Coordenada (59.437, 24.7536) não está dentro de uma região da Estônia.\n"
     ]
    }
   ],
   "source": [
    "from shapely.geometry import Point, Polygon\n",
    "\n",
    "# Lista de coordenadas\n",
    "coordenadas = [(58.314502, 26.567954), (58.601123, 22.255536), (59.4370, 24.7536)]  # Substitua com suas próprias coordenadas\n",
    "\n",
    "# Lista de polígonos representando as regiões da Estônia\n",
    "# Exemplo: Tallinn e Tartu\n",
    "poligonos_estonia = [\n",
    "    Polygon([(57.909241,22.045001),(58.091748,22.247803),(58.448296,23.325354),(58.671462,22.778424),(58.494723,21.846066),(58.279932,21.835808),(58.158267,22.214486),(57.976952,21.987249)]), # Saaremaa\n",
    "    Polygon([(58.930614,21.995549),(59.117489,22.678813),(58.839034,23.121406),(58.669885,22.570639)]), # Hiiumaa\n",
    "    Polygon([(57.875688,24.386377),(58.731684,23.463538),(58.704998,25.301642),(58.333100,24.967435),(58.260484,25.264555),(58.030627,25.033266)]), # Pärnumaa\n",
    "    Polygon([(58.716885,24.029207),(58.771290,23.140566),(59.228776,23.077535),(59.250348,23.694357),(59.055735,24.161490)]), # Läänemaa\n",
    "    Polygon([(58.699250,24.133020),(58.987323,24.091950),(59.213355,24.630636),(59.221882,24.900632),(58.991191,25.322495),(58.664665,24.924818)]), # Raplamaa\n",
    "    Polygon([(58.999688,24.292102),(59.232012,24.913743),(58.991818,25.324184),(59.271184,25.463257),(59.276531,25.950252),(59.723009,25.721541),(59.466326,23.416765)]), # Harjumaa\n",
    "    Polygon([(58.045542,25.036610),(58.275094,25.279122),(58.328075,24.983104),(58.500729,25.036562),(58.687336,25.782312),(58.413488,26.187120),(58.097451,26.068628),(57.965990,25.599092)]), # Viljandimaa\n",
    "    Polygon([(58.731859,25.060221),(58.936718,25.118759),(59.266086,25.476517),(59.184949,26.003151),(58.838645,26.128648),(58.620218,25.259202)]), # Järvamaa\n",
    "    Polygon([(57.582152,26.477133),(57.756954,25.987071),(57.943257,25.585645),(58.149589,25.859783),(58.026949,26.123447),(58.162721,26.550464),(57.962221,26.577496),(57.933519,26.384930)]), # Valgamaa\n",
    "    Polygon([(58.475713,26.142790),(58.862400,27.366270),(59.068785,26.899842),(58.692384,25.783614)]), # Jõgevamaa\n",
    "    Polygon([(58.984867,26.791644),(59.614951,26.999953),(59.716053,25.726455),(59.276040,25.956887),(59.256570,25.538514),(59.185595,26.011746),(58.896017,26.145833)]), # Lääne-Virumaa\n",
    "    Polygon([(57.936111,26.411170),(57.474713,26.534274),(57.699885,28.003695),(58.097359,27.556545)]), # Võrumaa\n",
    "    Polygon([(58.178293,26.659231),(58.297622,27.450937),(58.092661,27.592132),(57.933223,26.627291)]), # Põlvamaa\n",
    "    Polygon([(58.978170,26.659231),(59.594875,26.587502),(59.496868,28.427515),(58.956872,27.855354)]), # Ida-Virumaa\n",
    "]\n",
    "\n",
    "# Verificar se as coordenadas estão dentro de alguma região\n",
    "for coord in coordenadas:\n",
    "    ponto = Point(coord[0], coord[1])\n",
    "    dentro_da_regiao = False\n",
    "\n",
    "    for poligono in poligonos_estonia:\n",
    "        if ponto.within(poligono):\n",
    "            dentro_da_regiao = True\n",
    "            break\n",
    "\n",
    "    if dentro_da_regiao:\n",
    "        print(f\"Coordenada {coord} está dentro de uma região da Estônia.\")\n",
    "    else:\n",
    "        print(f\"Coordenada {coord} não está dentro de uma região da Estônia.\")\n"
   ]
  },
  {
   "cell_type": "code",
   "execution_count": 28,
   "id": "0dd4bd1e",
   "metadata": {},
   "outputs": [
    {
     "data": {
      "text/plain": [
       "array([nan, 'Saaremaa', 'Hiiumaa', 'Pärnumaa', 'Läänemaa', 'Raplamaa',\n",
       "       'Harjumaa', 'Viljandimaa', 'Järvamaa', 'Valgamaa', 'Tartumaa',\n",
       "       'Jõgevamaa', 'Lääne-Virumaa', 'Võrumaa', 'Põlvamaa', 'Ida-Virumaa'],\n",
       "      dtype=object)"
      ]
     },
     "execution_count": 28,
     "metadata": {},
     "output_type": "execute_result"
    }
   ],
   "source": [
    "df_raw1['county_name'].unique()"
   ]
  },
  {
   "cell_type": "markdown",
   "id": "cdc85a81",
   "metadata": {},
   "source": [
    "# 1.0 DATA DESCRIPTIONS"
   ]
  },
  {
   "cell_type": "code",
   "execution_count": 6,
   "id": "7e90a8f5",
   "metadata": {
    "ExecuteTime": {
     "end_time": "2023-07-09T23:14:24.693829Z",
     "start_time": "2023-07-09T23:14:24.317909Z"
    }
   },
   "outputs": [],
   "source": [
    "df1 = df_raw.copy()"
   ]
  },
  {
   "cell_type": "markdown",
   "id": "00c325c9",
   "metadata": {},
   "source": [
    "## 1.1 Rename Columns"
   ]
  },
  {
   "cell_type": "code",
   "execution_count": null,
   "id": "0ffe9f9f",
   "metadata": {
    "ExecuteTime": {
     "end_time": "2023-07-09T23:14:24.699583Z",
     "start_time": "2023-07-09T23:14:24.695425Z"
    }
   },
   "outputs": [],
   "source": [
    "cols_old = []\n",
    "\n",
    "snakecase = lambda x: inflection.underscore(x)\n",
    "\n",
    "cols_new = list( map( snakecase, cols_old ) )\n",
    "\n",
    "# rename\n",
    "df1.columns = cols_new"
   ]
  },
  {
   "cell_type": "markdown",
   "id": "ae030980",
   "metadata": {},
   "source": [
    "## 1.2 Data Dimensions"
   ]
  },
  {
   "cell_type": "code",
   "execution_count": 7,
   "id": "1212ad71",
   "metadata": {
    "ExecuteTime": {
     "end_time": "2023-07-09T23:14:24.761411Z",
     "start_time": "2023-07-09T23:14:24.700905Z"
    }
   },
   "outputs": [
    {
     "name": "stdout",
     "output_type": "stream",
     "text": [
      "Number of Rows: 2018352\n",
      "Number of Columns: 9\n"
     ]
    }
   ],
   "source": [
    "print( 'Number of Rows: {}'.format(df1.shape[0]) )\n",
    "print( 'Number of Columns: {}'.format(df1.shape[1]) )"
   ]
  },
  {
   "cell_type": "markdown",
   "id": "8b930731",
   "metadata": {},
   "source": [
    "## 1.3 Data Types"
   ]
  },
  {
   "cell_type": "code",
   "execution_count": 8,
   "id": "03b2ab4b",
   "metadata": {
    "ExecuteTime": {
     "end_time": "2023-07-09T23:14:24.840350Z",
     "start_time": "2023-07-09T23:14:24.763393Z"
    }
   },
   "outputs": [
    {
     "data": {
      "text/plain": [
       "county                  int64\n",
       "is_business             int64\n",
       "product_type            int64\n",
       "target                float64\n",
       "is_consumption          int64\n",
       "datetime               object\n",
       "data_block_id           int64\n",
       "row_id                  int64\n",
       "prediction_unit_id      int64\n",
       "dtype: object"
      ]
     },
     "execution_count": 8,
     "metadata": {},
     "output_type": "execute_result"
    }
   ],
   "source": [
    "df1.dtypes"
   ]
  },
  {
   "cell_type": "markdown",
   "id": "974524b2",
   "metadata": {},
   "source": [
    "## 1.4 Check NA"
   ]
  },
  {
   "cell_type": "code",
   "execution_count": 9,
   "id": "3578c434",
   "metadata": {
    "ExecuteTime": {
     "end_time": "2023-07-09T23:14:25.459039Z",
     "start_time": "2023-07-09T23:14:25.037842Z"
    }
   },
   "outputs": [
    {
     "data": {
      "text/plain": [
       "county                  0\n",
       "is_business             0\n",
       "product_type            0\n",
       "target                528\n",
       "is_consumption          0\n",
       "datetime                0\n",
       "data_block_id           0\n",
       "row_id                  0\n",
       "prediction_unit_id      0\n",
       "dtype: int64"
      ]
     },
     "execution_count": 9,
     "metadata": {},
     "output_type": "execute_result"
    }
   ],
   "source": [
    "df1.isna().sum()"
   ]
  },
  {
   "cell_type": "markdown",
   "id": "9d3f1fcb",
   "metadata": {},
   "source": [
    "## 1.5 Fillout NA"
   ]
  },
  {
   "cell_type": "code",
   "execution_count": null,
   "id": "f2f389ca",
   "metadata": {
    "ExecuteTime": {
     "end_time": "2023-07-09T23:15:19.382330Z",
     "start_time": "2023-07-09T23:14:25.460521Z"
    }
   },
   "outputs": [],
   "source": [
    "# FLOAT or INT\n",
    "df1['<var>'] = df1['<var>'].apply(lambda x :200000.0 if math.isnan(x) else x)\n",
    "\n",
    "# BINARY (TRUE or FALSE)\n",
    "df1['<var>'] = df1['<var>'].apply(lambda x: 0 if x['<var>'] == 0 else, axis = 1)\n",
    "\n",
    "# maybe useful              \n",
    "month_map = {1: 'Jan', 2: 'Feb', 3: 'Mar', 4: 'Apr', 5: 'May', 6: 'Jun', 7: 'Jul', 8: 'Aug', 9: 'Sept', 10: 'Oct', 11: 'Nov', 12: 'Dec'}\n",
    "df1['<var>'] = df1['date'].dt.month.map(month_map)"
   ]
  },
  {
   "cell_type": "markdown",
   "id": "a39546bb",
   "metadata": {},
   "source": [
    "## 1.6 Check Types"
   ]
  },
  {
   "cell_type": "code",
   "execution_count": null,
   "id": "7b1bc670",
   "metadata": {
    "ExecuteTime": {
     "end_time": "2023-07-09T23:15:19.415083Z",
     "start_time": "2023-07-09T23:15:19.384273Z"
    },
    "scrolled": true
   },
   "outputs": [],
   "source": [
    "# INT\n",
    "df1['<var>'] = df1['<var>'].astype(int)\n",
    "\n",
    "# FLOAT\n",
    "df1['<var>'] = df1['<var>'].astype(float)\n",
    "\n",
    "# STR\n",
    "df1['<var>'] = df1['<var>'].astype(str)\n",
    "\n",
    "# DATETIME\n",
    "df1['<var>'] = pd.to_datetime(df1['<var>'])"
   ]
  },
  {
   "cell_type": "markdown",
   "id": "fb2f8496",
   "metadata": {},
   "source": [
    "## 1.7 Descriptive Statistical"
   ]
  },
  {
   "cell_type": "code",
   "execution_count": null,
   "id": "556036ea",
   "metadata": {
    "ExecuteTime": {
     "end_time": "2023-07-09T23:15:19.458421Z",
     "start_time": "2023-07-09T23:15:19.417119Z"
    }
   },
   "outputs": [],
   "source": [
    "num_attributes = df1.select_dtypes(include=['int64', 'float64'])\n",
    "cat_attributes = df1.select_dtypes(exclude=['int64', 'float64', 'datetime64[ns]'])"
   ]
  },
  {
   "cell_type": "markdown",
   "id": "6673d7de",
   "metadata": {},
   "source": [
    "### 1.7.1 Numerical Attributes"
   ]
  },
  {
   "cell_type": "code",
   "execution_count": null,
   "id": "d6a13af7",
   "metadata": {
    "ExecuteTime": {
     "end_time": "2023-07-09T23:15:19.515802Z",
     "start_time": "2023-07-09T23:15:19.463043Z"
    }
   },
   "outputs": [],
   "source": [
    "# Alternative Code\n",
    "num_attributes.agg([\"mean\",\"median\",\"std\",\"min\",\"max\",\"skew\",\"kurtosis\"]).T.reset_index().rename(columns={'index': 'attributes'})"
   ]
  },
  {
   "cell_type": "markdown",
   "id": "0f160da1",
   "metadata": {},
   "source": [
    "### 1.7.2 Categorical Attributes"
   ]
  },
  {
   "cell_type": "code",
   "execution_count": null,
   "id": "a52e4b34",
   "metadata": {
    "ExecuteTime": {
     "end_time": "2023-07-09T23:15:26.054506Z",
     "start_time": "2023-07-09T23:15:25.917357Z"
    }
   },
   "outputs": [],
   "source": [
    "cat_attributes.apply( lambda x: x.unique().shape[0] )"
   ]
  },
  {
   "cell_type": "markdown",
   "id": "fef014ed",
   "metadata": {},
   "source": [
    "# 2.0 FEATURE ENGINEERING"
   ]
  },
  {
   "cell_type": "code",
   "execution_count": null,
   "id": "a2a17910",
   "metadata": {
    "ExecuteTime": {
     "end_time": "2023-07-09T23:15:26.461530Z",
     "start_time": "2023-07-09T23:15:26.413260Z"
    }
   },
   "outputs": [],
   "source": [
    "df2 = df1.copy()"
   ]
  },
  {
   "cell_type": "markdown",
   "id": "17687a80",
   "metadata": {},
   "source": [
    "## 2.1 - Mapa Mental de Hipoteses"
   ]
  },
  {
   "cell_type": "code",
   "execution_count": null,
   "id": "16419537",
   "metadata": {
    "ExecuteTime": {
     "end_time": "2023-07-09T23:15:26.657599Z",
     "start_time": "2023-07-09T23:15:26.463095Z"
    }
   },
   "outputs": [],
   "source": [
    "dir = ''\n",
    "img = ''\n",
    "Image(dir + img)"
   ]
  },
  {
   "cell_type": "markdown",
   "id": "ec99154b",
   "metadata": {},
   "source": [
    "## 2.2 - Criacao das Hipoteses"
   ]
  },
  {
   "cell_type": "markdown",
   "id": "9e98788a",
   "metadata": {},
   "source": [
    "### 2.2.1 - Hipoteses #1"
   ]
  },
  {
   "cell_type": "markdown",
   "id": "f1c3cdf7",
   "metadata": {},
   "source": [
    "**1.** \n",
    "\n",
    "**2.** \n"
   ]
  },
  {
   "cell_type": "markdown",
   "id": "f8720f1c",
   "metadata": {},
   "source": [
    "## 2.3 - Lista Final de Hipoteses"
   ]
  },
  {
   "cell_type": "markdown",
   "id": "0abdda88",
   "metadata": {},
   "source": [
    "**1.** \n",
    "\n",
    "**2.** \n"
   ]
  },
  {
   "cell_type": "markdown",
   "id": "7dd29371",
   "metadata": {},
   "source": [
    "## 2.4 - Feature Engineering"
   ]
  },
  {
   "cell_type": "code",
   "execution_count": null,
   "id": "0c46332f",
   "metadata": {
    "ExecuteTime": {
     "end_time": "2023-07-09T23:16:05.026155Z",
     "start_time": "2023-07-09T23:15:26.659954Z"
    }
   },
   "outputs": [],
   "source": [
    "# year\n",
    "df2['year'] = df2['date'].dt.year\n",
    "\n",
    "# month\n",
    "df2['month'] = df2['date'].dt.month\n",
    "\n",
    "# day\n",
    "df2['day'] = df2['date'].dt.day\n",
    "\n",
    "# week of year\n",
    "df2['week_of_year'] = df2['date'].dt.weekofyear\n",
    "\n",
    "# year week\n",
    "df2['year_week'] = df2['date'].dt.strftime( '%Y-%W' )\n",
    "\n",
    "# categories\n",
    "df2['<var>'] = df2['<var>'].apply( lambda x: 'example1' if x == 'a' else 'example2' if x == 'b' else 'example3' )"
   ]
  },
  {
   "cell_type": "code",
   "execution_count": null,
   "id": "d2f18a85",
   "metadata": {
    "ExecuteTime": {
     "end_time": "2023-07-09T23:16:05.039390Z",
     "start_time": "2023-07-09T23:16:05.027989Z"
    }
   },
   "outputs": [],
   "source": [
    "df2.head().T"
   ]
  },
  {
   "cell_type": "markdown",
   "id": "cf9c4d06",
   "metadata": {},
   "source": [
    "# 3.0 DATA FILTERING"
   ]
  },
  {
   "cell_type": "code",
   "execution_count": null,
   "id": "459a4005",
   "metadata": {
    "ExecuteTime": {
     "end_time": "2023-07-09T23:16:05.558145Z",
     "start_time": "2023-07-09T23:16:05.041466Z"
    }
   },
   "outputs": [],
   "source": [
    "df3 = df2.copy()"
   ]
  },
  {
   "cell_type": "markdown",
   "id": "daf8f03f",
   "metadata": {},
   "source": [
    "## 3.1 - Filtragem das Linhas"
   ]
  },
  {
   "cell_type": "code",
   "execution_count": null,
   "id": "4d645f1d",
   "metadata": {
    "ExecuteTime": {
     "end_time": "2023-07-09T23:16:05.665588Z",
     "start_time": "2023-07-09T23:16:05.560102Z"
    }
   },
   "outputs": [],
   "source": []
  },
  {
   "cell_type": "markdown",
   "id": "1db9e605",
   "metadata": {},
   "source": [
    "## 3.2 - Selecao das Colunas"
   ]
  },
  {
   "cell_type": "code",
   "execution_count": null,
   "id": "b662d287",
   "metadata": {
    "ExecuteTime": {
     "end_time": "2023-07-09T23:16:05.731842Z",
     "start_time": "2023-07-09T23:16:05.667598Z"
    }
   },
   "outputs": [],
   "source": [
    "cols_drop = []\n",
    "df3.drop(cols_drop, axis=1, inplace=True)"
   ]
  },
  {
   "cell_type": "markdown",
   "id": "f041e25e",
   "metadata": {},
   "source": [
    "# 4.0 EXPLORATORY DATA ANALYSIS"
   ]
  },
  {
   "cell_type": "code",
   "execution_count": null,
   "id": "49c485e6",
   "metadata": {
    "ExecuteTime": {
     "end_time": "2023-07-09T23:16:05.823396Z",
     "start_time": "2023-07-09T23:16:05.734148Z"
    }
   },
   "outputs": [],
   "source": [
    "df4 = df3.copy()"
   ]
  },
  {
   "cell_type": "markdown",
   "id": "4ecfd3cc",
   "metadata": {},
   "source": [
    "## 4.1 - Univariate Analysis"
   ]
  },
  {
   "cell_type": "markdown",
   "id": "c0e705a9",
   "metadata": {},
   "source": [
    "### 4.1.1 - Response Variable"
   ]
  },
  {
   "cell_type": "code",
   "execution_count": null,
   "id": "a5a19899",
   "metadata": {
    "ExecuteTime": {
     "end_time": "2023-07-09T23:16:06.891516Z",
     "start_time": "2023-07-09T23:16:05.825210Z"
    },
    "hide_input": false,
    "scrolled": true
   },
   "outputs": [],
   "source": [
    "# EXAMPLE 1\n",
    "# plt.figure(figsize=(15,8))\n",
    "# sns.histplot( df4['<var>'] )"
   ]
  },
  {
   "cell_type": "markdown",
   "id": "1223943b",
   "metadata": {},
   "source": [
    "### 4.1.2 - Numerical Variable"
   ]
  },
  {
   "cell_type": "code",
   "execution_count": null,
   "id": "b54fe979",
   "metadata": {
    "ExecuteTime": {
     "end_time": "2023-07-09T23:16:08.634447Z",
     "start_time": "2023-07-09T23:16:06.893421Z"
    },
    "hide_input": true
   },
   "outputs": [],
   "source": [
    "num_attributes.hist(figsize=(20,12), bins=25);"
   ]
  },
  {
   "cell_type": "markdown",
   "id": "6f86abcd",
   "metadata": {},
   "source": [
    "### 4.1.3 - Categorical Variable"
   ]
  },
  {
   "cell_type": "code",
   "execution_count": null,
   "id": "fb953655",
   "metadata": {},
   "outputs": [],
   "source": []
  },
  {
   "cell_type": "markdown",
   "id": "67d54a2a",
   "metadata": {},
   "source": [
    "## 4.2 - Bivariate Analysis"
   ]
  },
  {
   "cell_type": "markdown",
   "id": "1e388025",
   "metadata": {},
   "source": [
    "### H1 - Example\n",
    "**FALSE** or **TRUE** - Explanation"
   ]
  },
  {
   "cell_type": "code",
   "execution_count": null,
   "id": "c1b2b1f5",
   "metadata": {},
   "outputs": [],
   "source": []
  },
  {
   "cell_type": "markdown",
   "id": "e7ccb119",
   "metadata": {},
   "source": [
    "## 4.3 - Multivariate Analysis"
   ]
  },
  {
   "cell_type": "markdown",
   "id": "ef36b344",
   "metadata": {},
   "source": [
    "### 4.3.1 - Numerical Attributes"
   ]
  },
  {
   "cell_type": "code",
   "execution_count": null,
   "id": "f62472e1",
   "metadata": {
    "ExecuteTime": {
     "end_time": "2023-07-09T23:16:26.835200Z",
     "start_time": "2023-07-09T23:16:25.409980Z"
    }
   },
   "outputs": [],
   "source": [
    "correlation = num_attributes.corr(method='pearson')\n",
    "\n",
    "plt.figure(figsize=(16,10))\n",
    "sns.heatmap(correlation, annot=True);"
   ]
  },
  {
   "cell_type": "markdown",
   "id": "af5b262f",
   "metadata": {},
   "source": [
    "### 4.3.2 - Caterogical Attributes"
   ]
  },
  {
   "cell_type": "code",
   "execution_count": null,
   "id": "9a2a053a",
   "metadata": {
    "ExecuteTime": {
     "end_time": "2023-07-09T23:16:26.845215Z",
     "start_time": "2023-07-09T23:16:26.836829Z"
    }
   },
   "outputs": [],
   "source": [
    "a = df4.select_dtypes( include='object' )\n",
    "a"
   ]
  },
  {
   "cell_type": "code",
   "execution_count": null,
   "id": "af8d40f2",
   "metadata": {},
   "outputs": [],
   "source": [
    "# only categorical data\n",
    "a = df4.select_dtypes( include='object' )\n",
    "cramer_v(a['<cols>'])\n"
   ]
  },
  {
   "cell_type": "markdown",
   "id": "346f27a2",
   "metadata": {},
   "source": [
    "## 4.4 - Resumo das Hipoteses"
   ]
  },
  {
   "cell_type": "code",
   "execution_count": null,
   "id": "1c62d1f8",
   "metadata": {
    "ExecuteTime": {
     "end_time": "2023-07-09T23:16:28.199028Z",
     "start_time": "2023-07-09T23:16:28.194276Z"
    },
    "hide_input": true
   },
   "outputs": [],
   "source": [
    "tab =[\n",
    "['Hipoteses', 'Conclusao', 'Relevancia'],\n",
    "['H1', 'Falsa', 'Baixa'],\n",
    "['H2', 'Falsa', 'Media'],\n",
    "['H3', 'Verdadeira', 'Alta']\n",
    "]\n",
    "print( tabulate( tab, headers='firstrow' ) )"
   ]
  },
  {
   "cell_type": "markdown",
   "id": "f28c01a8",
   "metadata": {},
   "source": [
    "# 5.0 DATA PREPARATION"
   ]
  },
  {
   "cell_type": "code",
   "execution_count": null,
   "id": "dcee807e",
   "metadata": {
    "ExecuteTime": {
     "end_time": "2023-07-09T23:16:28.355763Z",
     "start_time": "2023-07-09T23:16:28.200155Z"
    }
   },
   "outputs": [],
   "source": [
    "df5 = df4.copy()"
   ]
  },
  {
   "cell_type": "markdown",
   "id": "874584e0",
   "metadata": {},
   "source": [
    "## 5.1 - Normalizacao"
   ]
  },
  {
   "cell_type": "code",
   "execution_count": null,
   "id": "5962a74a",
   "metadata": {},
   "outputs": [],
   "source": []
  },
  {
   "cell_type": "markdown",
   "id": "68c03e8e",
   "metadata": {},
   "source": [
    "## 5.2 - Rescaling"
   ]
  },
  {
   "cell_type": "code",
   "execution_count": null,
   "id": "6da83450",
   "metadata": {
    "ExecuteTime": {
     "end_time": "2023-07-09T23:16:28.879045Z",
     "start_time": "2023-07-09T23:16:28.358045Z"
    },
    "hide_input": true
   },
   "outputs": [],
   "source": [
    "plt.figure(figsize=(16,10))\n",
    "sns.boxplot(y=df5['<var>']);"
   ]
  },
  {
   "cell_type": "code",
   "execution_count": null,
   "id": "52c766ff",
   "metadata": {
    "ExecuteTime": {
     "end_time": "2023-07-09T23:16:29.539222Z",
     "start_time": "2023-07-09T23:16:28.880492Z"
    },
    "hide_input": false
   },
   "outputs": [],
   "source": [
    "dir_parameter = 'src/parameter/'\n",
    "\n",
    "# Example RobustScaler\n",
    "rs = RobustScaler()\n",
    "df5['<var>'] = rs.fit_transform( df5[['<var>']].values )\n",
    "pickle.dump( rs, open(dir_parameter + '<archive>.pkl', 'wb') )\n",
    "\n",
    "# Example MinMaxScaler\n",
    "mms = MinMaxScaler()\n",
    "df5['<var>'] = mms.fit_transform( df5[['<var>']].values )\n",
    "pickle.dump( mms, open(dir_parameter + '<archive>.pkl', 'wb') )"
   ]
  },
  {
   "cell_type": "markdown",
   "id": "be2c270e",
   "metadata": {},
   "source": [
    "## 5.3 - Transformacao"
   ]
  },
  {
   "cell_type": "markdown",
   "id": "53d6918f",
   "metadata": {},
   "source": [
    "### 5.3.1 - Encoding"
   ]
  },
  {
   "cell_type": "code",
   "execution_count": null,
   "id": "bc74b685",
   "metadata": {
    "ExecuteTime": {
     "end_time": "2023-07-09T23:16:31.036275Z",
     "start_time": "2023-07-09T23:16:29.540755Z"
    }
   },
   "outputs": [],
   "source": [
    "dir_parameter = 'src/parameter/'\n",
    "\n",
    "# Example One Hot Encoding\n",
    "df5 = pd.get_dummies( df5, prefix=['<var>'], columns=['<var>'] )\n",
    "\n",
    "# Example Label Encoding\n",
    "le = LabelEncoder()\n",
    "df5['<var>'] = le.fit_transform( df5['<var>'] )\n",
    "pickle.dump( le, open(dir_parameter + '<archive>.pkl', 'wb') )\n",
    "\n",
    "# Example Ordinal Encoding\n",
    "assortment_dict = {'basic': 1, 'extra': 2, 'extented': 3}\n",
    "df5['<var>'] = df5['<var>'].map( assortment_dict )"
   ]
  },
  {
   "cell_type": "markdown",
   "id": "31d729fc",
   "metadata": {},
   "source": [
    "### 5.3.2 - Response Variable Transformation"
   ]
  },
  {
   "cell_type": "code",
   "execution_count": null,
   "id": "27ee905f",
   "metadata": {
    "ExecuteTime": {
     "end_time": "2023-07-09T23:16:34.149547Z",
     "start_time": "2023-07-09T23:16:31.038003Z"
    }
   },
   "outputs": [],
   "source": [
    "# Example\n",
    "df5['<var>'] = np.log1p( df5['<var>'] )\n",
    "\n",
    "plt.figure(figsize=(16,10))\n",
    "sns.distplot(df5['<var>'])"
   ]
  },
  {
   "cell_type": "markdown",
   "id": "7f8eddbd",
   "metadata": {},
   "source": [
    "### 5.3.3 - Nature Transformation"
   ]
  },
  {
   "cell_type": "code",
   "execution_count": null,
   "id": "9213499a",
   "metadata": {
    "ExecuteTime": {
     "end_time": "2023-07-09T23:16:43.070350Z",
     "start_time": "2023-07-09T23:16:34.151738Z"
    }
   },
   "outputs": [],
   "source": [
    "# day_of_week\n",
    "df5['day_of_week_sin'] = df5['day_of_week'].apply( lambda x: np.sin( x * ( 2. * np.pi/7 ) ) )\n",
    "df5['day_of_week_cos'] = df5['day_of_week'].apply( lambda x: np.cos( x * ( 2. * np.pi/7 ) ) )\n",
    "\n",
    "# month\n",
    "df5['month_sin'] = df5['month'].apply( lambda x: np.sin( x * ( 2. * np.pi/12 ) ) )\n",
    "df5['month_cos'] = df5['month'].apply( lambda x: np.cos( x * ( 2. * np.pi/12 ) ) )\n",
    "\n",
    "# day \n",
    "df5['day_sin'] = df5['day'].apply( lambda x: np.sin( x * ( 2. * np.pi/30 ) ) )\n",
    "df5['day_cos'] = df5['day'].apply( lambda x: np.cos( x * ( 2. * np.pi/30 ) ) )\n",
    "\n",
    "# week_of_year\n",
    "df5['week_of_year_sin'] = df5['week_of_year'].apply( lambda x: np.sin( x * ( 2. * np.pi/52 ) ) )\n",
    "df5['week_of_year_cos'] = df5['week_of_year'].apply( lambda x: np.cos( x * ( 2. * np.pi/52 ) ) )"
   ]
  },
  {
   "cell_type": "markdown",
   "id": "96b129e3",
   "metadata": {},
   "source": [
    "# 6.0 FEATURE SELECTION"
   ]
  },
  {
   "cell_type": "code",
   "execution_count": null,
   "id": "db294031",
   "metadata": {
    "ExecuteTime": {
     "end_time": "2023-07-09T23:16:44.212977Z",
     "start_time": "2023-07-09T23:16:43.071908Z"
    }
   },
   "outputs": [],
   "source": [
    "df6 = df5.copy()\n",
    "\n",
    "cols_drop = []\n",
    "df6.drop(cols_drop, axis=1, inplace=True)"
   ]
  },
  {
   "cell_type": "markdown",
   "id": "a38e9af4",
   "metadata": {},
   "source": [
    "## 6.1 - Split Dataframe into training and test dataset"
   ]
  },
  {
   "cell_type": "code",
   "execution_count": null,
   "id": "3a196363",
   "metadata": {
    "ExecuteTime": {
     "end_time": "2023-07-09T23:16:44.632792Z",
     "start_time": "2023-07-09T23:16:44.214923Z"
    },
    "scrolled": true
   },
   "outputs": [],
   "source": [
    "X = df6.drop('<var>', axis=1)\n",
    "Y = df6['<var>']\n",
    "\n",
    "x_train, x_test, y_train, y_test = train_test_split(X, Y, test_size=0.2 ,random_state=42)"
   ]
  },
  {
   "cell_type": "markdown",
   "id": "e8835cfc",
   "metadata": {},
   "source": [
    "# 7.0 MACHINE LEARNING MODELLING"
   ]
  },
  {
   "cell_type": "markdown",
   "id": "563d6427",
   "metadata": {},
   "source": [
    "## 7.1 Example Model"
   ]
  },
  {
   "cell_type": "code",
   "execution_count": null,
   "id": "73a61921",
   "metadata": {
    "ExecuteTime": {
     "end_time": "2023-07-09T23:16:50.711056Z",
     "start_time": "2023-07-09T23:16:47.625150Z"
    }
   },
   "outputs": [],
   "source": [
    "# model\n",
    "lr = LinearRegression().fit( x_train, y_train )\n",
    "\n",
    "# prediction\n",
    "yhat_lr = lr.predict( x_test )\n",
    "\n",
    "# performance\n",
    "lr_result = ml_error( 'Linear Regression', np.expm1(y_test), np.expm1(yhat_lr) )\n",
    "lr_result"
   ]
  },
  {
   "cell_type": "markdown",
   "id": "4614a5e5",
   "metadata": {},
   "source": [
    "### 7.1.1 Example Model - Cross Validation"
   ]
  },
  {
   "cell_type": "code",
   "execution_count": null,
   "id": "baec4621",
   "metadata": {
    "ExecuteTime": {
     "end_time": "2023-07-09T23:16:55.428155Z",
     "start_time": "2023-07-09T23:16:50.712869Z"
    }
   },
   "outputs": [],
   "source": [
    "lr_result_cv = cross_validation( x_training, 5, 'Linear Regression', lr )\n",
    "lr_result_cv"
   ]
  },
  {
   "cell_type": "markdown",
   "id": "94877815",
   "metadata": {},
   "source": [
    "# 8.0 HYPERPARAMETER FINE TUNING"
   ]
  },
  {
   "cell_type": "code",
   "execution_count": null,
   "id": "66f2fef6",
   "metadata": {},
   "outputs": [],
   "source": []
  },
  {
   "cell_type": "markdown",
   "id": "e8c8ebf4",
   "metadata": {},
   "source": [
    "# 9.0 TRANSLATE AND INTERPRETATION ERROR"
   ]
  },
  {
   "cell_type": "markdown",
   "id": "8013f45b",
   "metadata": {},
   "source": [
    "## 9.1 Business Performance"
   ]
  },
  {
   "cell_type": "code",
   "execution_count": null,
   "id": "22b99d58",
   "metadata": {
    "ExecuteTime": {
     "end_time": "2023-07-09T23:33:44.406590Z",
     "start_time": "2023-07-09T23:33:43.522232Z"
    }
   },
   "outputs": [],
   "source": []
  },
  {
   "cell_type": "markdown",
   "id": "3f82b977",
   "metadata": {},
   "source": [
    "## 9.2 Total Performance"
   ]
  },
  {
   "cell_type": "code",
   "execution_count": null,
   "id": "11f8f949",
   "metadata": {},
   "outputs": [],
   "source": []
  },
  {
   "cell_type": "markdown",
   "id": "3c6070ac",
   "metadata": {},
   "source": [
    "## 9.3 Macinhe Learning Performance"
   ]
  },
  {
   "cell_type": "code",
   "execution_count": null,
   "id": "bc963e9a",
   "metadata": {},
   "outputs": [],
   "source": []
  }
 ],
 "metadata": {
  "kernelspec": {
   "display_name": "Python 3 (ipykernel)",
   "language": "python",
   "name": "python3"
  },
  "language_info": {
   "codemirror_mode": {
    "name": "ipython",
    "version": 3
   },
   "file_extension": ".py",
   "mimetype": "text/x-python",
   "name": "python",
   "nbconvert_exporter": "python",
   "pygments_lexer": "ipython3",
   "version": "3.10.12"
  },
  "varInspector": {
   "cols": {
    "lenName": 16,
    "lenType": 16,
    "lenVar": 40
   },
   "kernels_config": {
    "python": {
     "delete_cmd_postfix": "",
     "delete_cmd_prefix": "del ",
     "library": "var_list.py",
     "varRefreshCmd": "print(var_dic_list())"
    },
    "r": {
     "delete_cmd_postfix": ") ",
     "delete_cmd_prefix": "rm(",
     "library": "var_list.r",
     "varRefreshCmd": "cat(var_dic_list()) "
    }
   },
   "types_to_exclude": [
    "module",
    "function",
    "builtin_function_or_method",
    "instance",
    "_Feature"
   ],
   "window_display": false
  }
 },
 "nbformat": 4,
 "nbformat_minor": 5
}
