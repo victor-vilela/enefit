{
 "cells": [
  {
   "cell_type": "markdown",
   "id": "c67fd87e",
   "metadata": {},
   "source": [
    "# 0.0 IMPORTS"
   ]
  },
  {
   "cell_type": "code",
   "execution_count": null,
   "id": "a57500bf",
   "metadata": {
    "ExecuteTime": {
     "end_time": "2023-07-09T23:14:21.239883Z",
     "start_time": "2023-07-09T23:14:12.683463Z"
    }
   },
   "outputs": [],
   "source": [
    "import inflection\n",
    "import math\n",
    "import datetime\n",
    "import warnings\n",
    "import pickle\n",
    "import seaborn                          as sns\n",
    "import pandas                           as pd\n",
    "import numpy                            as np\n",
    "import matplotlib.pyplot                as plt\n",
    "import xgboost                          as xgb\n",
    "\n",
    "from scipy                 import stats as ss\n",
    "from IPython.display       import Image\n",
    "from tabulate              import tabulate\n",
    "\n",
    "from sklearn.preprocessing import RobustScaler, MinMaxScaler, LabelEncoder\n",
    "from sklearn.metrics       import mean_absolute_error, mean_absolute_percentage_error, mean_squared_error\n",
    "from sklearn.model_selection import train_test_split"
   ]
  },
  {
   "cell_type": "markdown",
   "id": "a7848568",
   "metadata": {},
   "source": [
    "## 0.1 Helper Functions"
   ]
  },
  {
   "cell_type": "code",
   "execution_count": null,
   "id": "a69db5ae",
   "metadata": {
    "ExecuteTime": {
     "end_time": "2023-07-09T23:14:21.247820Z",
     "start_time": "2023-07-09T23:14:21.244123Z"
    }
   },
   "outputs": [],
   "source": [
    "warnings.filterwarnings('ignore')"
   ]
  },
  {
   "cell_type": "code",
   "execution_count": null,
   "id": "2a4384cd",
   "metadata": {
    "ExecuteTime": {
     "end_time": "2023-07-09T23:14:21.398281Z",
     "start_time": "2023-07-09T23:14:21.250501Z"
    }
   },
   "outputs": [],
   "source": [
    "def cramer_v( x, y ):\n",
    "    cm = pd.crosstab( x, y ).values\n",
    "    n = cm.sum()\n",
    "    r, k = cm.shape\n",
    "    chi2 = ss.chi2_contingency( cm )[0]\n",
    "    chi2corr = max( 0, chi2 - (k-1)*(r-1)/(n-1) )\n",
    "    kcorr = k - (k-1)**2/(n-1)\n",
    "    rcorr = r - (r-1)**2/(n-1)\n",
    "    \n",
    "    return np.sqrt( (chi2corr/n) / ( min( kcorr-1, rcorr-1 ) ) )\n",
    "\n",
    "# Model Avaliation \n",
    "def ml_error( model_name, y, yhat ):\n",
    "    mae = mean_absolute_error( y, yhat )\n",
    "    mape = mean_absolute_percentage_error( y, yhat )\n",
    "    rmse = np.sqrt( mean_squared_error( y, yhat ) ) \n",
    "    \n",
    "    return pd.DataFrame( {'Model Name': model_name,\n",
    "                          'MAE': mae,\n",
    "                          'MAPE': mape,\n",
    "                          'RMSE': rmse}, index=[0] )\n",
    "\n",
    "# Cross Validation\n",
    "def cross_validation( x_training, kfold, model_name, model, verbose=False):\n",
    "\n",
    "    mae_list= []\n",
    "    mape_list= []\n",
    "    rmse_list= []\n",
    "    \n",
    "    for k in reversed( range( 1, kfold+1 ) ):\n",
    "        if verbose:\n",
    "            print('\\nKFold Number: ', k)\n",
    "        # start and end date for validation\n",
    "        validation_start_date = x_training['date'].max() - datetime.timedelta( days=k*6*7 )\n",
    "        validation_end_date = x_training['date'].max() - datetime.timedelta( days=k*6*7 )\n",
    "        \n",
    "        # filtering dataset\n",
    "        training = x_training[x_training['date'] < validation_start_date]\n",
    "        validation = x_training[(x_training['date'] >= validation_start_date) & (x_training['date'] <= validation_end_date)]\n",
    "        \n",
    "        # training and validation dataset\n",
    "        xtraining = training.drop(['date', 'sales'], axis=1)\n",
    "        ytraining = training['sales']\n",
    "        \n",
    "        xvalidation = validation.drop(['date', 'sales'], axis=1)\n",
    "        yvalidation = validation['sales']\n",
    "        \n",
    "        # model\n",
    "        m = model.fit(xtraining, ytraining)\n",
    "        \n",
    "        # prediction\n",
    "        yhat = m.predict(xvalidation)\n",
    "        \n",
    "        # performance\n",
    "        m_result = ml_error(model_name, np.expm1(yvalidation), np.expm1(yhat))\n",
    "        \n",
    "        # store performance of each kfold iteration\n",
    "        mae_list.append( m_result['MAE'] )\n",
    "        mape_list.append( m_result['MAPE'] )\n",
    "        rmse_list.append( m_result['RMSE'] )\n",
    "        \n",
    "    return pd.DataFrame( {\n",
    "            'Model Name': model_name,\n",
    "            'MAE CV': np.round( np.mean(mae_list), 2 ).astype(str) + \" +/- \" + np.round( np.std(mae_list), 2 ).astype(str),\n",
    "            'MAPE CV': np.round( np.mean(mape_list), 2 ).astype(str) + \" +/- \" + np.round( np.std(mape_list), 2 ).astype(str),\n",
    "            'RMSE CV': np.round( np.mean(rmse_list), 2 ).astype(str) + \" +/- \" + np.round( np.std(rmse_list), 2 ).astype(str)\n",
    "        }, index=[0] )\n",
    "\n",
    "\n",
    "def mean_percentage_error( y, yhat ):\n",
    "    return np.mean( (y-yhat) / y )"
   ]
  },
  {
   "cell_type": "markdown",
   "id": "16de90d0",
   "metadata": {},
   "source": [
    "## 0.2 Loading Data"
   ]
  },
  {
   "cell_type": "code",
   "execution_count": null,
   "id": "cdaa3384",
   "metadata": {
    "ExecuteTime": {
     "end_time": "2023-07-09T23:14:24.315533Z",
     "start_time": "2023-07-09T23:14:21.401530Z"
    }
   },
   "outputs": [],
   "source": [
    "dir_data = \"../data/raw/\"\n",
    "file_data = \"\"\n",
    "\n",
    "# CSV\n",
    "# df_raw = pd.read_csv(dir + file, low_memory=False)\n",
    "\n",
    "# EXCEL\n",
    "# df_raw = pd.read_excel(dir + file, low_memory=False)\n",
    "\n",
    "# PARQUET\n",
    "# df_raw = pd.read_parquet(dir + file, low_memory=False)"
   ]
  },
  {
   "cell_type": "code",
   "execution_count": null,
   "id": "0dd4bd1e",
   "metadata": {},
   "outputs": [],
   "source": [
    "# merge (if necessary)\n",
    "# df_raw = pd.merge( df_raw1, df_raw2, how='left', on='<key>' )"
   ]
  },
  {
   "cell_type": "markdown",
   "id": "cdc85a81",
   "metadata": {},
   "source": [
    "# 1.0 DATA DESCRIPTIONS"
   ]
  },
  {
   "cell_type": "code",
   "execution_count": null,
   "id": "7e90a8f5",
   "metadata": {
    "ExecuteTime": {
     "end_time": "2023-07-09T23:14:24.693829Z",
     "start_time": "2023-07-09T23:14:24.317909Z"
    }
   },
   "outputs": [],
   "source": [
    "df1 = df_raw.copy()"
   ]
  },
  {
   "cell_type": "markdown",
   "id": "00c325c9",
   "metadata": {},
   "source": [
    "## 1.1 Rename Columns"
   ]
  },
  {
   "cell_type": "code",
   "execution_count": null,
   "id": "0ffe9f9f",
   "metadata": {
    "ExecuteTime": {
     "end_time": "2023-07-09T23:14:24.699583Z",
     "start_time": "2023-07-09T23:14:24.695425Z"
    }
   },
   "outputs": [],
   "source": [
    "cols_old = []\n",
    "\n",
    "snakecase = lambda x: inflection.underscore(x)\n",
    "\n",
    "cols_new = list( map( snakecase, cols_old ) )\n",
    "\n",
    "# rename\n",
    "df1.columns = cols_new"
   ]
  },
  {
   "cell_type": "markdown",
   "id": "ae030980",
   "metadata": {},
   "source": [
    "## 1.2 Data Dimensions"
   ]
  },
  {
   "cell_type": "code",
   "execution_count": null,
   "id": "1212ad71",
   "metadata": {
    "ExecuteTime": {
     "end_time": "2023-07-09T23:14:24.761411Z",
     "start_time": "2023-07-09T23:14:24.700905Z"
    }
   },
   "outputs": [],
   "source": [
    "print( 'Number of Rows: {}'.format(df1.shape[0]) )\n",
    "print( 'Number of Columns: {}'.format(df1.shape[1]) )"
   ]
  },
  {
   "cell_type": "markdown",
   "id": "8b930731",
   "metadata": {},
   "source": [
    "## 1.3 Data Types"
   ]
  },
  {
   "cell_type": "code",
   "execution_count": null,
   "id": "03b2ab4b",
   "metadata": {
    "ExecuteTime": {
     "end_time": "2023-07-09T23:14:24.840350Z",
     "start_time": "2023-07-09T23:14:24.763393Z"
    }
   },
   "outputs": [],
   "source": [
    "df1.dtypes"
   ]
  },
  {
   "cell_type": "markdown",
   "id": "974524b2",
   "metadata": {},
   "source": [
    "## 1.4 Check NA"
   ]
  },
  {
   "cell_type": "code",
   "execution_count": null,
   "id": "3578c434",
   "metadata": {
    "ExecuteTime": {
     "end_time": "2023-07-09T23:14:25.459039Z",
     "start_time": "2023-07-09T23:14:25.037842Z"
    }
   },
   "outputs": [],
   "source": [
    "df1.isna().sum()"
   ]
  },
  {
   "cell_type": "markdown",
   "id": "9d3f1fcb",
   "metadata": {},
   "source": [
    "## 1.5 Fillout NA"
   ]
  },
  {
   "cell_type": "code",
   "execution_count": null,
   "id": "f2f389ca",
   "metadata": {
    "ExecuteTime": {
     "end_time": "2023-07-09T23:15:19.382330Z",
     "start_time": "2023-07-09T23:14:25.460521Z"
    }
   },
   "outputs": [],
   "source": [
    "# FLOAT or INT\n",
    "df1['<var>'] = df1['<var>'].apply(lambda x :200000.0 if math.isnan(x) else x)\n",
    "\n",
    "# BINARY (TRUE or FALSE)\n",
    "df1['<var>'] = df1['<var>'].apply(lambda x: 0 if x['<var>'] == 0 else, axis = 1)\n",
    "\n",
    "# maybe useful              \n",
    "month_map = {1: 'Jan', 2: 'Feb', 3: 'Mar', 4: 'Apr', 5: 'May', 6: 'Jun', 7: 'Jul', 8: 'Aug', 9: 'Sept', 10: 'Oct', 11: 'Nov', 12: 'Dec'}\n",
    "df1['<var>'] = df1['date'].dt.month.map(month_map)"
   ]
  },
  {
   "cell_type": "markdown",
   "id": "a39546bb",
   "metadata": {},
   "source": [
    "## 1.6 Check Types"
   ]
  },
  {
   "cell_type": "code",
   "execution_count": null,
   "id": "7b1bc670",
   "metadata": {
    "ExecuteTime": {
     "end_time": "2023-07-09T23:15:19.415083Z",
     "start_time": "2023-07-09T23:15:19.384273Z"
    },
    "scrolled": true
   },
   "outputs": [],
   "source": [
    "# INT\n",
    "df1['<var>'] = df1['<var>'].astype(int)\n",
    "\n",
    "# FLOAT\n",
    "df1['<var>'] = df1['<var>'].astype(float)\n",
    "\n",
    "# STR\n",
    "df1['<var>'] = df1['<var>'].astype(str)\n",
    "\n",
    "# DATETIME\n",
    "df1['<var>'] = pd.to_datetime(df1['<var>'])"
   ]
  },
  {
   "cell_type": "markdown",
   "id": "fb2f8496",
   "metadata": {},
   "source": [
    "## 1.7 Descriptive Statistical"
   ]
  },
  {
   "cell_type": "code",
   "execution_count": null,
   "id": "556036ea",
   "metadata": {
    "ExecuteTime": {
     "end_time": "2023-07-09T23:15:19.458421Z",
     "start_time": "2023-07-09T23:15:19.417119Z"
    }
   },
   "outputs": [],
   "source": [
    "num_attributes = df1.select_dtypes(include=['int64', 'float64'])\n",
    "cat_attributes = df1.select_dtypes(exclude=['int64', 'float64', 'datetime64[ns]'])"
   ]
  },
  {
   "cell_type": "markdown",
   "id": "6673d7de",
   "metadata": {},
   "source": [
    "### 1.7.1 Numerical Attributes"
   ]
  },
  {
   "cell_type": "code",
   "execution_count": null,
   "id": "d6a13af7",
   "metadata": {
    "ExecuteTime": {
     "end_time": "2023-07-09T23:15:19.515802Z",
     "start_time": "2023-07-09T23:15:19.463043Z"
    }
   },
   "outputs": [],
   "source": [
    "# Alternative Code\n",
    "num_attributes.agg([\"mean\",\"median\",\"std\",\"min\",\"max\",\"skew\",\"kurtosis\"]).T.reset_index().rename(columns={'index': 'attributes'})"
   ]
  },
  {
   "cell_type": "markdown",
   "id": "0f160da1",
   "metadata": {},
   "source": [
    "### 1.7.2 Categorical Attributes"
   ]
  },
  {
   "cell_type": "code",
   "execution_count": null,
   "id": "a52e4b34",
   "metadata": {
    "ExecuteTime": {
     "end_time": "2023-07-09T23:15:26.054506Z",
     "start_time": "2023-07-09T23:15:25.917357Z"
    }
   },
   "outputs": [],
   "source": [
    "cat_attributes.apply( lambda x: x.unique().shape[0] )"
   ]
  },
  {
   "cell_type": "markdown",
   "id": "fef014ed",
   "metadata": {},
   "source": [
    "# 2.0 FEATURE ENGINEERING"
   ]
  },
  {
   "cell_type": "code",
   "execution_count": null,
   "id": "a2a17910",
   "metadata": {
    "ExecuteTime": {
     "end_time": "2023-07-09T23:15:26.461530Z",
     "start_time": "2023-07-09T23:15:26.413260Z"
    }
   },
   "outputs": [],
   "source": [
    "df2 = df1.copy()"
   ]
  },
  {
   "cell_type": "markdown",
   "id": "17687a80",
   "metadata": {},
   "source": [
    "## 2.1 - Mapa Mental de Hipoteses"
   ]
  },
  {
   "cell_type": "code",
   "execution_count": null,
   "id": "16419537",
   "metadata": {
    "ExecuteTime": {
     "end_time": "2023-07-09T23:15:26.657599Z",
     "start_time": "2023-07-09T23:15:26.463095Z"
    }
   },
   "outputs": [],
   "source": [
    "dir = ''\n",
    "img = ''\n",
    "Image(dir + img)"
   ]
  },
  {
   "cell_type": "markdown",
   "id": "ec99154b",
   "metadata": {},
   "source": [
    "## 2.2 - Criacao das Hipoteses"
   ]
  },
  {
   "cell_type": "markdown",
   "id": "9e98788a",
   "metadata": {},
   "source": [
    "### 2.2.1 - Hipoteses #1"
   ]
  },
  {
   "cell_type": "markdown",
   "id": "f1c3cdf7",
   "metadata": {},
   "source": [
    "**1.** \n",
    "\n",
    "**2.** \n"
   ]
  },
  {
   "cell_type": "markdown",
   "id": "f8720f1c",
   "metadata": {},
   "source": [
    "## 2.3 - Lista Final de Hipoteses"
   ]
  },
  {
   "cell_type": "markdown",
   "id": "0abdda88",
   "metadata": {},
   "source": [
    "**1.** \n",
    "\n",
    "**2.** \n"
   ]
  },
  {
   "cell_type": "markdown",
   "id": "7dd29371",
   "metadata": {},
   "source": [
    "## 2.4 - Feature Engineering"
   ]
  },
  {
   "cell_type": "code",
   "execution_count": null,
   "id": "0c46332f",
   "metadata": {
    "ExecuteTime": {
     "end_time": "2023-07-09T23:16:05.026155Z",
     "start_time": "2023-07-09T23:15:26.659954Z"
    }
   },
   "outputs": [],
   "source": [
    "# year\n",
    "df2['year'] = df2['date'].dt.year\n",
    "\n",
    "# month\n",
    "df2['month'] = df2['date'].dt.month\n",
    "\n",
    "# day\n",
    "df2['day'] = df2['date'].dt.day\n",
    "\n",
    "# week of year\n",
    "df2['week_of_year'] = df2['date'].dt.weekofyear\n",
    "\n",
    "# year week\n",
    "df2['year_week'] = df2['date'].dt.strftime( '%Y-%W' )\n",
    "\n",
    "# categories\n",
    "df2['<var>'] = df2['<var>'].apply( lambda x: 'example1' if x == 'a' else 'example2' if x == 'b' else 'example3' )"
   ]
  },
  {
   "cell_type": "code",
   "execution_count": null,
   "id": "d2f18a85",
   "metadata": {
    "ExecuteTime": {
     "end_time": "2023-07-09T23:16:05.039390Z",
     "start_time": "2023-07-09T23:16:05.027989Z"
    }
   },
   "outputs": [],
   "source": [
    "df2.head().T"
   ]
  },
  {
   "cell_type": "markdown",
   "id": "cf9c4d06",
   "metadata": {},
   "source": [
    "# 3.0 DATA FILTERING"
   ]
  },
  {
   "cell_type": "code",
   "execution_count": null,
   "id": "459a4005",
   "metadata": {
    "ExecuteTime": {
     "end_time": "2023-07-09T23:16:05.558145Z",
     "start_time": "2023-07-09T23:16:05.041466Z"
    }
   },
   "outputs": [],
   "source": [
    "df3 = df2.copy()"
   ]
  },
  {
   "cell_type": "markdown",
   "id": "daf8f03f",
   "metadata": {},
   "source": [
    "## 3.1 - Filtragem das Linhas"
   ]
  },
  {
   "cell_type": "code",
   "execution_count": null,
   "id": "4d645f1d",
   "metadata": {
    "ExecuteTime": {
     "end_time": "2023-07-09T23:16:05.665588Z",
     "start_time": "2023-07-09T23:16:05.560102Z"
    }
   },
   "outputs": [],
   "source": []
  },
  {
   "cell_type": "markdown",
   "id": "1db9e605",
   "metadata": {},
   "source": [
    "## 3.2 - Selecao das Colunas"
   ]
  },
  {
   "cell_type": "code",
   "execution_count": null,
   "id": "b662d287",
   "metadata": {
    "ExecuteTime": {
     "end_time": "2023-07-09T23:16:05.731842Z",
     "start_time": "2023-07-09T23:16:05.667598Z"
    }
   },
   "outputs": [],
   "source": [
    "cols_drop = []\n",
    "df3.drop(cols_drop, axis=1, inplace=True)"
   ]
  },
  {
   "cell_type": "markdown",
   "id": "f041e25e",
   "metadata": {},
   "source": [
    "# 4.0 EXPLORATORY DATA ANALYSIS"
   ]
  },
  {
   "cell_type": "code",
   "execution_count": null,
   "id": "49c485e6",
   "metadata": {
    "ExecuteTime": {
     "end_time": "2023-07-09T23:16:05.823396Z",
     "start_time": "2023-07-09T23:16:05.734148Z"
    }
   },
   "outputs": [],
   "source": [
    "df4 = df3.copy()"
   ]
  },
  {
   "cell_type": "markdown",
   "id": "4ecfd3cc",
   "metadata": {},
   "source": [
    "## 4.1 - Univariate Analysis"
   ]
  },
  {
   "cell_type": "markdown",
   "id": "c0e705a9",
   "metadata": {},
   "source": [
    "### 4.1.1 - Response Variable"
   ]
  },
  {
   "cell_type": "code",
   "execution_count": null,
   "id": "a5a19899",
   "metadata": {
    "ExecuteTime": {
     "end_time": "2023-07-09T23:16:06.891516Z",
     "start_time": "2023-07-09T23:16:05.825210Z"
    },
    "hide_input": false,
    "scrolled": true
   },
   "outputs": [],
   "source": [
    "# EXAMPLE 1\n",
    "# plt.figure(figsize=(15,8))\n",
    "# sns.histplot( df4['<var>'] )"
   ]
  },
  {
   "cell_type": "markdown",
   "id": "1223943b",
   "metadata": {},
   "source": [
    "### 4.1.2 - Numerical Variable"
   ]
  },
  {
   "cell_type": "code",
   "execution_count": null,
   "id": "b54fe979",
   "metadata": {
    "ExecuteTime": {
     "end_time": "2023-07-09T23:16:08.634447Z",
     "start_time": "2023-07-09T23:16:06.893421Z"
    },
    "hide_input": true
   },
   "outputs": [],
   "source": [
    "num_attributes.hist(figsize=(20,12), bins=25);"
   ]
  },
  {
   "cell_type": "markdown",
   "id": "6f86abcd",
   "metadata": {},
   "source": [
    "### 4.1.3 - Categorical Variable"
   ]
  },
  {
   "cell_type": "code",
   "execution_count": null,
   "id": "fb953655",
   "metadata": {},
   "outputs": [],
   "source": []
  },
  {
   "cell_type": "markdown",
   "id": "67d54a2a",
   "metadata": {},
   "source": [
    "## 4.2 - Bivariate Analysis"
   ]
  },
  {
   "cell_type": "markdown",
   "id": "1e388025",
   "metadata": {},
   "source": [
    "### H1 - Example\n",
    "**FALSE** or **TRUE** - Explanation"
   ]
  },
  {
   "cell_type": "code",
   "execution_count": null,
   "id": "c1b2b1f5",
   "metadata": {},
   "outputs": [],
   "source": []
  },
  {
   "cell_type": "markdown",
   "id": "e7ccb119",
   "metadata": {},
   "source": [
    "## 4.3 - Multivariate Analysis"
   ]
  },
  {
   "cell_type": "markdown",
   "id": "ef36b344",
   "metadata": {},
   "source": [
    "### 4.3.1 - Numerical Attributes"
   ]
  },
  {
   "cell_type": "code",
   "execution_count": null,
   "id": "f62472e1",
   "metadata": {
    "ExecuteTime": {
     "end_time": "2023-07-09T23:16:26.835200Z",
     "start_time": "2023-07-09T23:16:25.409980Z"
    }
   },
   "outputs": [],
   "source": [
    "correlation = num_attributes.corr(method='pearson')\n",
    "\n",
    "plt.figure(figsize=(16,10))\n",
    "sns.heatmap(correlation, annot=True);"
   ]
  },
  {
   "cell_type": "markdown",
   "id": "af5b262f",
   "metadata": {},
   "source": [
    "### 4.3.2 - Caterogical Attributes"
   ]
  },
  {
   "cell_type": "code",
   "execution_count": null,
   "id": "9a2a053a",
   "metadata": {
    "ExecuteTime": {
     "end_time": "2023-07-09T23:16:26.845215Z",
     "start_time": "2023-07-09T23:16:26.836829Z"
    }
   },
   "outputs": [],
   "source": [
    "a = df4.select_dtypes( include='object' )\n",
    "a"
   ]
  },
  {
   "cell_type": "code",
   "execution_count": null,
   "id": "af8d40f2",
   "metadata": {},
   "outputs": [],
   "source": [
    "# only categorical data\n",
    "a = df4.select_dtypes( include='object' )\n",
    "cramer_v(a['<cols>'])\n"
   ]
  },
  {
   "cell_type": "markdown",
   "id": "346f27a2",
   "metadata": {},
   "source": [
    "## 4.4 - Resumo das Hipoteses"
   ]
  },
  {
   "cell_type": "code",
   "execution_count": null,
   "id": "1c62d1f8",
   "metadata": {
    "ExecuteTime": {
     "end_time": "2023-07-09T23:16:28.199028Z",
     "start_time": "2023-07-09T23:16:28.194276Z"
    },
    "hide_input": true
   },
   "outputs": [],
   "source": [
    "tab =[\n",
    "['Hipoteses', 'Conclusao', 'Relevancia'],\n",
    "['H1', 'Falsa', 'Baixa'],\n",
    "['H2', 'Falsa', 'Media'],\n",
    "['H3', 'Verdadeira', 'Alta']\n",
    "]\n",
    "print( tabulate( tab, headers='firstrow' ) )"
   ]
  },
  {
   "cell_type": "markdown",
   "id": "f28c01a8",
   "metadata": {},
   "source": [
    "# 5.0 DATA PREPARATION"
   ]
  },
  {
   "cell_type": "code",
   "execution_count": null,
   "id": "dcee807e",
   "metadata": {
    "ExecuteTime": {
     "end_time": "2023-07-09T23:16:28.355763Z",
     "start_time": "2023-07-09T23:16:28.200155Z"
    }
   },
   "outputs": [],
   "source": [
    "df5 = df4.copy()"
   ]
  },
  {
   "cell_type": "markdown",
   "id": "874584e0",
   "metadata": {},
   "source": [
    "## 5.1 - Normalizacao"
   ]
  },
  {
   "cell_type": "code",
   "execution_count": null,
   "id": "5962a74a",
   "metadata": {},
   "outputs": [],
   "source": []
  },
  {
   "cell_type": "markdown",
   "id": "68c03e8e",
   "metadata": {},
   "source": [
    "## 5.2 - Rescaling"
   ]
  },
  {
   "cell_type": "code",
   "execution_count": null,
   "id": "6da83450",
   "metadata": {
    "ExecuteTime": {
     "end_time": "2023-07-09T23:16:28.879045Z",
     "start_time": "2023-07-09T23:16:28.358045Z"
    },
    "hide_input": true
   },
   "outputs": [],
   "source": [
    "plt.figure(figsize=(16,10))\n",
    "sns.boxplot(y=df5['<var>']);"
   ]
  },
  {
   "cell_type": "code",
   "execution_count": null,
   "id": "52c766ff",
   "metadata": {
    "ExecuteTime": {
     "end_time": "2023-07-09T23:16:29.539222Z",
     "start_time": "2023-07-09T23:16:28.880492Z"
    },
    "hide_input": false
   },
   "outputs": [],
   "source": [
    "dir_parameter = 'src/parameter/'\n",
    "\n",
    "# Example RobustScaler\n",
    "rs = RobustScaler()\n",
    "df5['<var>'] = rs.fit_transform( df5[['<var>']].values )\n",
    "pickle.dump( rs, open(dir_parameter + '<archive>.pkl', 'wb') )\n",
    "\n",
    "# Example MinMaxScaler\n",
    "mms = MinMaxScaler()\n",
    "df5['<var>'] = mms.fit_transform( df5[['<var>']].values )\n",
    "pickle.dump( mms, open(dir_parameter + '<archive>.pkl', 'wb') )"
   ]
  },
  {
   "cell_type": "markdown",
   "id": "be2c270e",
   "metadata": {},
   "source": [
    "## 5.3 - Transformacao"
   ]
  },
  {
   "cell_type": "markdown",
   "id": "53d6918f",
   "metadata": {},
   "source": [
    "### 5.3.1 - Encoding"
   ]
  },
  {
   "cell_type": "code",
   "execution_count": null,
   "id": "bc74b685",
   "metadata": {
    "ExecuteTime": {
     "end_time": "2023-07-09T23:16:31.036275Z",
     "start_time": "2023-07-09T23:16:29.540755Z"
    }
   },
   "outputs": [],
   "source": [
    "dir_parameter = 'src/parameter/'\n",
    "\n",
    "# Example One Hot Encoding\n",
    "df5 = pd.get_dummies( df5, prefix=['<var>'], columns=['<var>'] )\n",
    "\n",
    "# Example Label Encoding\n",
    "le = LabelEncoder()\n",
    "df5['<var>'] = le.fit_transform( df5['<var>'] )\n",
    "pickle.dump( le, open(dir_parameter + '<archive>.pkl', 'wb') )\n",
    "\n",
    "# Example Ordinal Encoding\n",
    "assortment_dict = {'basic': 1, 'extra': 2, 'extented': 3}\n",
    "df5['<var>'] = df5['<var>'].map( assortment_dict )"
   ]
  },
  {
   "cell_type": "markdown",
   "id": "31d729fc",
   "metadata": {},
   "source": [
    "### 5.3.2 - Response Variable Transformation"
   ]
  },
  {
   "cell_type": "code",
   "execution_count": null,
   "id": "27ee905f",
   "metadata": {
    "ExecuteTime": {
     "end_time": "2023-07-09T23:16:34.149547Z",
     "start_time": "2023-07-09T23:16:31.038003Z"
    }
   },
   "outputs": [],
   "source": [
    "# Example\n",
    "df5['<var>'] = np.log1p( df5['<var>'] )\n",
    "\n",
    "plt.figure(figsize=(16,10))\n",
    "sns.distplot(df5['<var>'])"
   ]
  },
  {
   "cell_type": "markdown",
   "id": "7f8eddbd",
   "metadata": {},
   "source": [
    "### 5.3.3 - Nature Transformation"
   ]
  },
  {
   "cell_type": "code",
   "execution_count": null,
   "id": "9213499a",
   "metadata": {
    "ExecuteTime": {
     "end_time": "2023-07-09T23:16:43.070350Z",
     "start_time": "2023-07-09T23:16:34.151738Z"
    }
   },
   "outputs": [],
   "source": [
    "# day_of_week\n",
    "df5['day_of_week_sin'] = df5['day_of_week'].apply( lambda x: np.sin( x * ( 2. * np.pi/7 ) ) )\n",
    "df5['day_of_week_cos'] = df5['day_of_week'].apply( lambda x: np.cos( x * ( 2. * np.pi/7 ) ) )\n",
    "\n",
    "# month\n",
    "df5['month_sin'] = df5['month'].apply( lambda x: np.sin( x * ( 2. * np.pi/12 ) ) )\n",
    "df5['month_cos'] = df5['month'].apply( lambda x: np.cos( x * ( 2. * np.pi/12 ) ) )\n",
    "\n",
    "# day \n",
    "df5['day_sin'] = df5['day'].apply( lambda x: np.sin( x * ( 2. * np.pi/30 ) ) )\n",
    "df5['day_cos'] = df5['day'].apply( lambda x: np.cos( x * ( 2. * np.pi/30 ) ) )\n",
    "\n",
    "# week_of_year\n",
    "df5['week_of_year_sin'] = df5['week_of_year'].apply( lambda x: np.sin( x * ( 2. * np.pi/52 ) ) )\n",
    "df5['week_of_year_cos'] = df5['week_of_year'].apply( lambda x: np.cos( x * ( 2. * np.pi/52 ) ) )"
   ]
  },
  {
   "cell_type": "markdown",
   "id": "96b129e3",
   "metadata": {},
   "source": [
    "# 6.0 FEATURE SELECTION"
   ]
  },
  {
   "cell_type": "code",
   "execution_count": null,
   "id": "db294031",
   "metadata": {
    "ExecuteTime": {
     "end_time": "2023-07-09T23:16:44.212977Z",
     "start_time": "2023-07-09T23:16:43.071908Z"
    }
   },
   "outputs": [],
   "source": [
    "df6 = df5.copy()\n",
    "\n",
    "cols_drop = []\n",
    "df6.drop(cols_drop, axis=1, inplace=True)"
   ]
  },
  {
   "cell_type": "markdown",
   "id": "a38e9af4",
   "metadata": {},
   "source": [
    "## 6.1 - Split Dataframe into training and test dataset"
   ]
  },
  {
   "cell_type": "code",
   "execution_count": null,
   "id": "3a196363",
   "metadata": {
    "ExecuteTime": {
     "end_time": "2023-07-09T23:16:44.632792Z",
     "start_time": "2023-07-09T23:16:44.214923Z"
    },
    "scrolled": true
   },
   "outputs": [],
   "source": [
    "X = df6.drop('<var>', axis=1)\n",
    "Y = df6['<var>']\n",
    "\n",
    "x_train, x_test, y_train, y_test = train_test_split(X, Y, test_size=0.2 ,random_state=42)"
   ]
  },
  {
   "cell_type": "markdown",
   "id": "e8835cfc",
   "metadata": {},
   "source": [
    "# 7.0 MACHINE LEARNING MODELLING"
   ]
  },
  {
   "cell_type": "markdown",
   "id": "563d6427",
   "metadata": {},
   "source": [
    "## 7.1 Example Model"
   ]
  },
  {
   "cell_type": "code",
   "execution_count": null,
   "id": "73a61921",
   "metadata": {
    "ExecuteTime": {
     "end_time": "2023-07-09T23:16:50.711056Z",
     "start_time": "2023-07-09T23:16:47.625150Z"
    }
   },
   "outputs": [],
   "source": [
    "# model\n",
    "lr = LinearRegression().fit( x_train, y_train )\n",
    "\n",
    "# prediction\n",
    "yhat_lr = lr.predict( x_test )\n",
    "\n",
    "# performance\n",
    "lr_result = ml_error( 'Linear Regression', np.expm1(y_test), np.expm1(yhat_lr) )\n",
    "lr_result"
   ]
  },
  {
   "cell_type": "markdown",
   "id": "4614a5e5",
   "metadata": {},
   "source": [
    "### 7.1.1 Example Model - Cross Validation"
   ]
  },
  {
   "cell_type": "code",
   "execution_count": null,
   "id": "baec4621",
   "metadata": {
    "ExecuteTime": {
     "end_time": "2023-07-09T23:16:55.428155Z",
     "start_time": "2023-07-09T23:16:50.712869Z"
    }
   },
   "outputs": [],
   "source": [
    "lr_result_cv = cross_validation( x_training, 5, 'Linear Regression', lr )\n",
    "lr_result_cv"
   ]
  },
  {
   "cell_type": "markdown",
   "id": "94877815",
   "metadata": {},
   "source": [
    "# 8.0 HYPERPARAMETER FINE TUNING"
   ]
  },
  {
   "cell_type": "code",
   "execution_count": null,
   "id": "66f2fef6",
   "metadata": {},
   "outputs": [],
   "source": []
  },
  {
   "cell_type": "markdown",
   "id": "e8c8ebf4",
   "metadata": {},
   "source": [
    "# 9.0 TRANSLATE AND INTERPRETATION ERROR"
   ]
  },
  {
   "cell_type": "markdown",
   "id": "8013f45b",
   "metadata": {},
   "source": [
    "## 9.1 Business Performance"
   ]
  },
  {
   "cell_type": "code",
   "execution_count": null,
   "id": "22b99d58",
   "metadata": {
    "ExecuteTime": {
     "end_time": "2023-07-09T23:33:44.406590Z",
     "start_time": "2023-07-09T23:33:43.522232Z"
    }
   },
   "outputs": [],
   "source": []
  },
  {
   "cell_type": "markdown",
   "id": "3f82b977",
   "metadata": {},
   "source": [
    "## 9.2 Total Performance"
   ]
  },
  {
   "cell_type": "code",
   "execution_count": null,
   "id": "11f8f949",
   "metadata": {},
   "outputs": [],
   "source": []
  },
  {
   "cell_type": "markdown",
   "id": "3c6070ac",
   "metadata": {},
   "source": [
    "## 9.3 Macinhe Learning Performance"
   ]
  },
  {
   "cell_type": "code",
   "execution_count": null,
   "id": "bc963e9a",
   "metadata": {},
   "outputs": [],
   "source": []
  }
 ],
 "metadata": {
  "kernelspec": {
   "display_name": "Python 3 (ipykernel)",
   "language": "python",
   "name": "python3"
  },
  "language_info": {
   "codemirror_mode": {
    "name": "ipython",
    "version": 3
   },
   "file_extension": ".py",
   "mimetype": "text/x-python",
   "name": "python",
   "nbconvert_exporter": "python",
   "pygments_lexer": "ipython3",
   "version": "3.10.12"
  },
  "varInspector": {
   "cols": {
    "lenName": 16,
    "lenType": 16,
    "lenVar": 40
   },
   "kernels_config": {
    "python": {
     "delete_cmd_postfix": "",
     "delete_cmd_prefix": "del ",
     "library": "var_list.py",
     "varRefreshCmd": "print(var_dic_list())"
    },
    "r": {
     "delete_cmd_postfix": ") ",
     "delete_cmd_prefix": "rm(",
     "library": "var_list.r",
     "varRefreshCmd": "cat(var_dic_list()) "
    }
   },
   "types_to_exclude": [
    "module",
    "function",
    "builtin_function_or_method",
    "instance",
    "_Feature"
   ],
   "window_display": false
  }
 },
 "nbformat": 4,
 "nbformat_minor": 5
}
